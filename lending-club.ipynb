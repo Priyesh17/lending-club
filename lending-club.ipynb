{
 "cells": [
  {
   "cell_type": "code",
   "execution_count": 1,
   "id": "dc020334",
   "metadata": {},
   "outputs": [],
   "source": [
    "# import statements.\n",
    "import pandas as pd\n",
    "import numpy as np\n",
    "import matplotlib.pyplot as plt"
   ]
  },
  {
   "cell_type": "markdown",
   "id": "fd945323",
   "metadata": {},
   "source": [
    "# Load Data"
   ]
  },
  {
   "cell_type": "code",
   "execution_count": 2,
   "id": "9a63fc1e",
   "metadata": {},
   "outputs": [
    {
     "name": "stderr",
     "output_type": "stream",
     "text": [
      "/usr/local/anaconda3/lib/python3.9/site-packages/IPython/core/interactiveshell.py:3444: DtypeWarning: Columns (47) have mixed types.Specify dtype option on import or set low_memory=False.\n",
      "  exec(code_obj, self.user_global_ns, self.user_ns)\n"
     ]
    }
   ],
   "source": [
    "# load data\n",
    "df = pd.read_csv(\"./dataset/loan.csv\", index_col=False)"
   ]
  },
  {
   "cell_type": "code",
   "execution_count": 3,
   "id": "fb7dbff1",
   "metadata": {},
   "outputs": [
    {
     "data": {
      "text/html": [
       "<div>\n",
       "<style scoped>\n",
       "    .dataframe tbody tr th:only-of-type {\n",
       "        vertical-align: middle;\n",
       "    }\n",
       "\n",
       "    .dataframe tbody tr th {\n",
       "        vertical-align: top;\n",
       "    }\n",
       "\n",
       "    .dataframe thead th {\n",
       "        text-align: right;\n",
       "    }\n",
       "</style>\n",
       "<table border=\"1\" class=\"dataframe\">\n",
       "  <thead>\n",
       "    <tr style=\"text-align: right;\">\n",
       "      <th></th>\n",
       "      <th>id</th>\n",
       "      <th>member_id</th>\n",
       "      <th>loan_amnt</th>\n",
       "      <th>funded_amnt</th>\n",
       "      <th>funded_amnt_inv</th>\n",
       "      <th>term</th>\n",
       "      <th>int_rate</th>\n",
       "      <th>installment</th>\n",
       "      <th>grade</th>\n",
       "      <th>sub_grade</th>\n",
       "      <th>...</th>\n",
       "      <th>num_tl_90g_dpd_24m</th>\n",
       "      <th>num_tl_op_past_12m</th>\n",
       "      <th>pct_tl_nvr_dlq</th>\n",
       "      <th>percent_bc_gt_75</th>\n",
       "      <th>pub_rec_bankruptcies</th>\n",
       "      <th>tax_liens</th>\n",
       "      <th>tot_hi_cred_lim</th>\n",
       "      <th>total_bal_ex_mort</th>\n",
       "      <th>total_bc_limit</th>\n",
       "      <th>total_il_high_credit_limit</th>\n",
       "    </tr>\n",
       "  </thead>\n",
       "  <tbody>\n",
       "    <tr>\n",
       "      <th>0</th>\n",
       "      <td>1077501</td>\n",
       "      <td>1296599</td>\n",
       "      <td>5000</td>\n",
       "      <td>5000</td>\n",
       "      <td>4975.0</td>\n",
       "      <td>36 months</td>\n",
       "      <td>10.65%</td>\n",
       "      <td>162.87</td>\n",
       "      <td>B</td>\n",
       "      <td>B2</td>\n",
       "      <td>...</td>\n",
       "      <td>NaN</td>\n",
       "      <td>NaN</td>\n",
       "      <td>NaN</td>\n",
       "      <td>NaN</td>\n",
       "      <td>0.0</td>\n",
       "      <td>0.0</td>\n",
       "      <td>NaN</td>\n",
       "      <td>NaN</td>\n",
       "      <td>NaN</td>\n",
       "      <td>NaN</td>\n",
       "    </tr>\n",
       "    <tr>\n",
       "      <th>1</th>\n",
       "      <td>1077430</td>\n",
       "      <td>1314167</td>\n",
       "      <td>2500</td>\n",
       "      <td>2500</td>\n",
       "      <td>2500.0</td>\n",
       "      <td>60 months</td>\n",
       "      <td>15.27%</td>\n",
       "      <td>59.83</td>\n",
       "      <td>C</td>\n",
       "      <td>C4</td>\n",
       "      <td>...</td>\n",
       "      <td>NaN</td>\n",
       "      <td>NaN</td>\n",
       "      <td>NaN</td>\n",
       "      <td>NaN</td>\n",
       "      <td>0.0</td>\n",
       "      <td>0.0</td>\n",
       "      <td>NaN</td>\n",
       "      <td>NaN</td>\n",
       "      <td>NaN</td>\n",
       "      <td>NaN</td>\n",
       "    </tr>\n",
       "    <tr>\n",
       "      <th>2</th>\n",
       "      <td>1077175</td>\n",
       "      <td>1313524</td>\n",
       "      <td>2400</td>\n",
       "      <td>2400</td>\n",
       "      <td>2400.0</td>\n",
       "      <td>36 months</td>\n",
       "      <td>15.96%</td>\n",
       "      <td>84.33</td>\n",
       "      <td>C</td>\n",
       "      <td>C5</td>\n",
       "      <td>...</td>\n",
       "      <td>NaN</td>\n",
       "      <td>NaN</td>\n",
       "      <td>NaN</td>\n",
       "      <td>NaN</td>\n",
       "      <td>0.0</td>\n",
       "      <td>0.0</td>\n",
       "      <td>NaN</td>\n",
       "      <td>NaN</td>\n",
       "      <td>NaN</td>\n",
       "      <td>NaN</td>\n",
       "    </tr>\n",
       "    <tr>\n",
       "      <th>3</th>\n",
       "      <td>1076863</td>\n",
       "      <td>1277178</td>\n",
       "      <td>10000</td>\n",
       "      <td>10000</td>\n",
       "      <td>10000.0</td>\n",
       "      <td>36 months</td>\n",
       "      <td>13.49%</td>\n",
       "      <td>339.31</td>\n",
       "      <td>C</td>\n",
       "      <td>C1</td>\n",
       "      <td>...</td>\n",
       "      <td>NaN</td>\n",
       "      <td>NaN</td>\n",
       "      <td>NaN</td>\n",
       "      <td>NaN</td>\n",
       "      <td>0.0</td>\n",
       "      <td>0.0</td>\n",
       "      <td>NaN</td>\n",
       "      <td>NaN</td>\n",
       "      <td>NaN</td>\n",
       "      <td>NaN</td>\n",
       "    </tr>\n",
       "    <tr>\n",
       "      <th>4</th>\n",
       "      <td>1075358</td>\n",
       "      <td>1311748</td>\n",
       "      <td>3000</td>\n",
       "      <td>3000</td>\n",
       "      <td>3000.0</td>\n",
       "      <td>60 months</td>\n",
       "      <td>12.69%</td>\n",
       "      <td>67.79</td>\n",
       "      <td>B</td>\n",
       "      <td>B5</td>\n",
       "      <td>...</td>\n",
       "      <td>NaN</td>\n",
       "      <td>NaN</td>\n",
       "      <td>NaN</td>\n",
       "      <td>NaN</td>\n",
       "      <td>0.0</td>\n",
       "      <td>0.0</td>\n",
       "      <td>NaN</td>\n",
       "      <td>NaN</td>\n",
       "      <td>NaN</td>\n",
       "      <td>NaN</td>\n",
       "    </tr>\n",
       "  </tbody>\n",
       "</table>\n",
       "<p>5 rows × 111 columns</p>\n",
       "</div>"
      ],
      "text/plain": [
       "        id  member_id  loan_amnt  funded_amnt  funded_amnt_inv        term  \\\n",
       "0  1077501    1296599       5000         5000           4975.0   36 months   \n",
       "1  1077430    1314167       2500         2500           2500.0   60 months   \n",
       "2  1077175    1313524       2400         2400           2400.0   36 months   \n",
       "3  1076863    1277178      10000        10000          10000.0   36 months   \n",
       "4  1075358    1311748       3000         3000           3000.0   60 months   \n",
       "\n",
       "  int_rate  installment grade sub_grade  ... num_tl_90g_dpd_24m  \\\n",
       "0   10.65%       162.87     B        B2  ...                NaN   \n",
       "1   15.27%        59.83     C        C4  ...                NaN   \n",
       "2   15.96%        84.33     C        C5  ...                NaN   \n",
       "3   13.49%       339.31     C        C1  ...                NaN   \n",
       "4   12.69%        67.79     B        B5  ...                NaN   \n",
       "\n",
       "  num_tl_op_past_12m pct_tl_nvr_dlq  percent_bc_gt_75 pub_rec_bankruptcies  \\\n",
       "0                NaN            NaN               NaN                  0.0   \n",
       "1                NaN            NaN               NaN                  0.0   \n",
       "2                NaN            NaN               NaN                  0.0   \n",
       "3                NaN            NaN               NaN                  0.0   \n",
       "4                NaN            NaN               NaN                  0.0   \n",
       "\n",
       "  tax_liens tot_hi_cred_lim total_bal_ex_mort total_bc_limit  \\\n",
       "0       0.0             NaN               NaN            NaN   \n",
       "1       0.0             NaN               NaN            NaN   \n",
       "2       0.0             NaN               NaN            NaN   \n",
       "3       0.0             NaN               NaN            NaN   \n",
       "4       0.0             NaN               NaN            NaN   \n",
       "\n",
       "  total_il_high_credit_limit  \n",
       "0                        NaN  \n",
       "1                        NaN  \n",
       "2                        NaN  \n",
       "3                        NaN  \n",
       "4                        NaN  \n",
       "\n",
       "[5 rows x 111 columns]"
      ]
     },
     "execution_count": 3,
     "metadata": {},
     "output_type": "execute_result"
    }
   ],
   "source": [
    "df.head()"
   ]
  },
  {
   "cell_type": "code",
   "execution_count": 4,
   "id": "0f458963",
   "metadata": {},
   "outputs": [
    {
     "data": {
      "text/plain": [
       "(39717, 111)"
      ]
     },
     "execution_count": 4,
     "metadata": {},
     "output_type": "execute_result"
    }
   ],
   "source": [
    "df.shape"
   ]
  },
  {
   "cell_type": "markdown",
   "id": "32d66a2c",
   "metadata": {},
   "source": [
    "# Data Cleaning and Standardization"
   ]
  },
  {
   "cell_type": "code",
   "execution_count": 5,
   "id": "f633b58c",
   "metadata": {},
   "outputs": [
    {
     "data": {
      "text/plain": [
       "id                                0\n",
       "member_id                         0\n",
       "loan_amnt                         0\n",
       "funded_amnt                       0\n",
       "funded_amnt_inv                   0\n",
       "                              ...  \n",
       "tax_liens                        39\n",
       "tot_hi_cred_lim               39717\n",
       "total_bal_ex_mort             39717\n",
       "total_bc_limit                39717\n",
       "total_il_high_credit_limit    39717\n",
       "Length: 111, dtype: int64"
      ]
     },
     "execution_count": 5,
     "metadata": {},
     "output_type": "execute_result"
    }
   ],
   "source": [
    "# Seems a lot of NaN values. We will be dropping them subsequently. \n",
    "# Fixing data.\n",
    "# Empty\n",
    "df.isnull().sum()"
   ]
  },
  {
   "cell_type": "code",
   "execution_count": 6,
   "id": "eeae0b55",
   "metadata": {},
   "outputs": [],
   "source": [
    "# let's start with NA values.\n",
    "df.dropna(axis=1, inplace=True, how=\"all\")"
   ]
  },
  {
   "cell_type": "code",
   "execution_count": 7,
   "id": "e94b288e",
   "metadata": {},
   "outputs": [
    {
     "data": {
      "text/html": [
       "<div>\n",
       "<style scoped>\n",
       "    .dataframe tbody tr th:only-of-type {\n",
       "        vertical-align: middle;\n",
       "    }\n",
       "\n",
       "    .dataframe tbody tr th {\n",
       "        vertical-align: top;\n",
       "    }\n",
       "\n",
       "    .dataframe thead th {\n",
       "        text-align: right;\n",
       "    }\n",
       "</style>\n",
       "<table border=\"1\" class=\"dataframe\">\n",
       "  <thead>\n",
       "    <tr style=\"text-align: right;\">\n",
       "      <th></th>\n",
       "      <th>id</th>\n",
       "      <th>member_id</th>\n",
       "      <th>loan_amnt</th>\n",
       "      <th>funded_amnt</th>\n",
       "      <th>funded_amnt_inv</th>\n",
       "      <th>term</th>\n",
       "      <th>int_rate</th>\n",
       "      <th>installment</th>\n",
       "      <th>grade</th>\n",
       "      <th>sub_grade</th>\n",
       "      <th>...</th>\n",
       "      <th>next_pymnt_d</th>\n",
       "      <th>last_credit_pull_d</th>\n",
       "      <th>collections_12_mths_ex_med</th>\n",
       "      <th>policy_code</th>\n",
       "      <th>application_type</th>\n",
       "      <th>acc_now_delinq</th>\n",
       "      <th>chargeoff_within_12_mths</th>\n",
       "      <th>delinq_amnt</th>\n",
       "      <th>pub_rec_bankruptcies</th>\n",
       "      <th>tax_liens</th>\n",
       "    </tr>\n",
       "  </thead>\n",
       "  <tbody>\n",
       "    <tr>\n",
       "      <th>0</th>\n",
       "      <td>1077501</td>\n",
       "      <td>1296599</td>\n",
       "      <td>5000</td>\n",
       "      <td>5000</td>\n",
       "      <td>4975.0</td>\n",
       "      <td>36 months</td>\n",
       "      <td>10.65%</td>\n",
       "      <td>162.87</td>\n",
       "      <td>B</td>\n",
       "      <td>B2</td>\n",
       "      <td>...</td>\n",
       "      <td>NaN</td>\n",
       "      <td>May-16</td>\n",
       "      <td>0.0</td>\n",
       "      <td>1</td>\n",
       "      <td>INDIVIDUAL</td>\n",
       "      <td>0</td>\n",
       "      <td>0.0</td>\n",
       "      <td>0</td>\n",
       "      <td>0.0</td>\n",
       "      <td>0.0</td>\n",
       "    </tr>\n",
       "    <tr>\n",
       "      <th>1</th>\n",
       "      <td>1077430</td>\n",
       "      <td>1314167</td>\n",
       "      <td>2500</td>\n",
       "      <td>2500</td>\n",
       "      <td>2500.0</td>\n",
       "      <td>60 months</td>\n",
       "      <td>15.27%</td>\n",
       "      <td>59.83</td>\n",
       "      <td>C</td>\n",
       "      <td>C4</td>\n",
       "      <td>...</td>\n",
       "      <td>NaN</td>\n",
       "      <td>Sep-13</td>\n",
       "      <td>0.0</td>\n",
       "      <td>1</td>\n",
       "      <td>INDIVIDUAL</td>\n",
       "      <td>0</td>\n",
       "      <td>0.0</td>\n",
       "      <td>0</td>\n",
       "      <td>0.0</td>\n",
       "      <td>0.0</td>\n",
       "    </tr>\n",
       "    <tr>\n",
       "      <th>2</th>\n",
       "      <td>1077175</td>\n",
       "      <td>1313524</td>\n",
       "      <td>2400</td>\n",
       "      <td>2400</td>\n",
       "      <td>2400.0</td>\n",
       "      <td>36 months</td>\n",
       "      <td>15.96%</td>\n",
       "      <td>84.33</td>\n",
       "      <td>C</td>\n",
       "      <td>C5</td>\n",
       "      <td>...</td>\n",
       "      <td>NaN</td>\n",
       "      <td>May-16</td>\n",
       "      <td>0.0</td>\n",
       "      <td>1</td>\n",
       "      <td>INDIVIDUAL</td>\n",
       "      <td>0</td>\n",
       "      <td>0.0</td>\n",
       "      <td>0</td>\n",
       "      <td>0.0</td>\n",
       "      <td>0.0</td>\n",
       "    </tr>\n",
       "    <tr>\n",
       "      <th>3</th>\n",
       "      <td>1076863</td>\n",
       "      <td>1277178</td>\n",
       "      <td>10000</td>\n",
       "      <td>10000</td>\n",
       "      <td>10000.0</td>\n",
       "      <td>36 months</td>\n",
       "      <td>13.49%</td>\n",
       "      <td>339.31</td>\n",
       "      <td>C</td>\n",
       "      <td>C1</td>\n",
       "      <td>...</td>\n",
       "      <td>NaN</td>\n",
       "      <td>Apr-16</td>\n",
       "      <td>0.0</td>\n",
       "      <td>1</td>\n",
       "      <td>INDIVIDUAL</td>\n",
       "      <td>0</td>\n",
       "      <td>0.0</td>\n",
       "      <td>0</td>\n",
       "      <td>0.0</td>\n",
       "      <td>0.0</td>\n",
       "    </tr>\n",
       "    <tr>\n",
       "      <th>4</th>\n",
       "      <td>1075358</td>\n",
       "      <td>1311748</td>\n",
       "      <td>3000</td>\n",
       "      <td>3000</td>\n",
       "      <td>3000.0</td>\n",
       "      <td>60 months</td>\n",
       "      <td>12.69%</td>\n",
       "      <td>67.79</td>\n",
       "      <td>B</td>\n",
       "      <td>B5</td>\n",
       "      <td>...</td>\n",
       "      <td>Jun-16</td>\n",
       "      <td>May-16</td>\n",
       "      <td>0.0</td>\n",
       "      <td>1</td>\n",
       "      <td>INDIVIDUAL</td>\n",
       "      <td>0</td>\n",
       "      <td>0.0</td>\n",
       "      <td>0</td>\n",
       "      <td>0.0</td>\n",
       "      <td>0.0</td>\n",
       "    </tr>\n",
       "  </tbody>\n",
       "</table>\n",
       "<p>5 rows × 57 columns</p>\n",
       "</div>"
      ],
      "text/plain": [
       "        id  member_id  loan_amnt  funded_amnt  funded_amnt_inv        term  \\\n",
       "0  1077501    1296599       5000         5000           4975.0   36 months   \n",
       "1  1077430    1314167       2500         2500           2500.0   60 months   \n",
       "2  1077175    1313524       2400         2400           2400.0   36 months   \n",
       "3  1076863    1277178      10000        10000          10000.0   36 months   \n",
       "4  1075358    1311748       3000         3000           3000.0   60 months   \n",
       "\n",
       "  int_rate  installment grade sub_grade  ... next_pymnt_d last_credit_pull_d  \\\n",
       "0   10.65%       162.87     B        B2  ...          NaN             May-16   \n",
       "1   15.27%        59.83     C        C4  ...          NaN             Sep-13   \n",
       "2   15.96%        84.33     C        C5  ...          NaN             May-16   \n",
       "3   13.49%       339.31     C        C1  ...          NaN             Apr-16   \n",
       "4   12.69%        67.79     B        B5  ...       Jun-16             May-16   \n",
       "\n",
       "  collections_12_mths_ex_med  policy_code application_type acc_now_delinq  \\\n",
       "0                        0.0            1       INDIVIDUAL              0   \n",
       "1                        0.0            1       INDIVIDUAL              0   \n",
       "2                        0.0            1       INDIVIDUAL              0   \n",
       "3                        0.0            1       INDIVIDUAL              0   \n",
       "4                        0.0            1       INDIVIDUAL              0   \n",
       "\n",
       "  chargeoff_within_12_mths delinq_amnt pub_rec_bankruptcies tax_liens  \n",
       "0                      0.0           0                  0.0       0.0  \n",
       "1                      0.0           0                  0.0       0.0  \n",
       "2                      0.0           0                  0.0       0.0  \n",
       "3                      0.0           0                  0.0       0.0  \n",
       "4                      0.0           0                  0.0       0.0  \n",
       "\n",
       "[5 rows x 57 columns]"
      ]
     },
     "execution_count": 7,
     "metadata": {},
     "output_type": "execute_result"
    }
   ],
   "source": [
    "df.head()"
   ]
  },
  {
   "cell_type": "code",
   "execution_count": 8,
   "id": "b0998534",
   "metadata": {},
   "outputs": [
    {
     "data": {
      "text/plain": [
       "(39717, 57)"
      ]
     },
     "execution_count": 8,
     "metadata": {},
     "output_type": "execute_result"
    }
   ],
   "source": [
    "# Almost 50% of columns were NaN\n",
    "df.shape"
   ]
  },
  {
   "cell_type": "code",
   "execution_count": 9,
   "id": "80fd510e",
   "metadata": {},
   "outputs": [
    {
     "data": {
      "text/plain": [
       "Index(['id', 'member_id', 'loan_amnt', 'funded_amnt', 'funded_amnt_inv',\n",
       "       'term', 'int_rate', 'installment', 'grade', 'sub_grade', 'emp_title',\n",
       "       'emp_length', 'home_ownership', 'annual_inc', 'verification_status',\n",
       "       'issue_d', 'loan_status', 'pymnt_plan', 'url', 'desc', 'purpose',\n",
       "       'title', 'zip_code', 'addr_state', 'dti', 'delinq_2yrs',\n",
       "       'earliest_cr_line', 'inq_last_6mths', 'mths_since_last_delinq',\n",
       "       'mths_since_last_record', 'open_acc', 'pub_rec', 'revol_bal',\n",
       "       'revol_util', 'total_acc', 'initial_list_status', 'out_prncp',\n",
       "       'out_prncp_inv', 'total_pymnt', 'total_pymnt_inv', 'total_rec_prncp',\n",
       "       'total_rec_int', 'total_rec_late_fee', 'recoveries',\n",
       "       'collection_recovery_fee', 'last_pymnt_d', 'last_pymnt_amnt',\n",
       "       'next_pymnt_d', 'last_credit_pull_d', 'collections_12_mths_ex_med',\n",
       "       'policy_code', 'application_type', 'acc_now_delinq',\n",
       "       'chargeoff_within_12_mths', 'delinq_amnt', 'pub_rec_bankruptcies',\n",
       "       'tax_liens'],\n",
       "      dtype='object')"
      ]
     },
     "execution_count": 9,
     "metadata": {},
     "output_type": "execute_result"
    }
   ],
   "source": [
    "df.columns"
   ]
  },
  {
   "cell_type": "code",
   "execution_count": 10,
   "id": "c184b0f8",
   "metadata": {},
   "outputs": [],
   "source": [
    "# let's select the one which will help in analysis.\n",
    "column_list=['loan_amnt', 'funded_amnt_inv', 'term', 'int_rate', 'installment',\n",
    "       'grade', 'sub_grade', 'emp_length', 'home_ownership', 'annual_inc',\n",
    "       'verification_status', 'issue_d', 'loan_status', 'purpose', 'dti',\n",
    "       'earliest_cr_line', 'inq_last_6mths', 'open_acc', 'pub_rec',\n",
    "       'revol_util', 'total_acc']\n",
    "df = df[column_list]"
   ]
  },
  {
   "cell_type": "code",
   "execution_count": 11,
   "id": "902978c1",
   "metadata": {},
   "outputs": [
    {
     "data": {
      "text/plain": [
       "Index(['loan_amnt', 'funded_amnt_inv', 'term', 'int_rate', 'installment',\n",
       "       'grade', 'sub_grade', 'emp_length', 'home_ownership', 'annual_inc',\n",
       "       'verification_status', 'issue_d', 'loan_status', 'purpose', 'dti',\n",
       "       'earliest_cr_line', 'inq_last_6mths', 'open_acc', 'pub_rec',\n",
       "       'revol_util', 'total_acc'],\n",
       "      dtype='object')"
      ]
     },
     "execution_count": 11,
     "metadata": {},
     "output_type": "execute_result"
    }
   ],
   "source": [
    "df.columns"
   ]
  },
  {
   "cell_type": "code",
   "execution_count": 12,
   "id": "e3fc3455",
   "metadata": {},
   "outputs": [
    {
     "data": {
      "text/html": [
       "<div>\n",
       "<style scoped>\n",
       "    .dataframe tbody tr th:only-of-type {\n",
       "        vertical-align: middle;\n",
       "    }\n",
       "\n",
       "    .dataframe tbody tr th {\n",
       "        vertical-align: top;\n",
       "    }\n",
       "\n",
       "    .dataframe thead th {\n",
       "        text-align: right;\n",
       "    }\n",
       "</style>\n",
       "<table border=\"1\" class=\"dataframe\">\n",
       "  <thead>\n",
       "    <tr style=\"text-align: right;\">\n",
       "      <th></th>\n",
       "      <th>loan_amnt</th>\n",
       "      <th>funded_amnt_inv</th>\n",
       "      <th>term</th>\n",
       "      <th>int_rate</th>\n",
       "      <th>installment</th>\n",
       "      <th>grade</th>\n",
       "      <th>sub_grade</th>\n",
       "      <th>emp_length</th>\n",
       "      <th>home_ownership</th>\n",
       "      <th>annual_inc</th>\n",
       "      <th>...</th>\n",
       "      <th>issue_d</th>\n",
       "      <th>loan_status</th>\n",
       "      <th>purpose</th>\n",
       "      <th>dti</th>\n",
       "      <th>earliest_cr_line</th>\n",
       "      <th>inq_last_6mths</th>\n",
       "      <th>open_acc</th>\n",
       "      <th>pub_rec</th>\n",
       "      <th>revol_util</th>\n",
       "      <th>total_acc</th>\n",
       "    </tr>\n",
       "  </thead>\n",
       "  <tbody>\n",
       "    <tr>\n",
       "      <th>0</th>\n",
       "      <td>5000</td>\n",
       "      <td>4975.0</td>\n",
       "      <td>36 months</td>\n",
       "      <td>10.65%</td>\n",
       "      <td>162.87</td>\n",
       "      <td>B</td>\n",
       "      <td>B2</td>\n",
       "      <td>10+ years</td>\n",
       "      <td>RENT</td>\n",
       "      <td>24000.0</td>\n",
       "      <td>...</td>\n",
       "      <td>Dec-11</td>\n",
       "      <td>Fully Paid</td>\n",
       "      <td>credit_card</td>\n",
       "      <td>27.65</td>\n",
       "      <td>Jan-85</td>\n",
       "      <td>1</td>\n",
       "      <td>3</td>\n",
       "      <td>0</td>\n",
       "      <td>83.70%</td>\n",
       "      <td>9</td>\n",
       "    </tr>\n",
       "    <tr>\n",
       "      <th>1</th>\n",
       "      <td>2500</td>\n",
       "      <td>2500.0</td>\n",
       "      <td>60 months</td>\n",
       "      <td>15.27%</td>\n",
       "      <td>59.83</td>\n",
       "      <td>C</td>\n",
       "      <td>C4</td>\n",
       "      <td>&lt; 1 year</td>\n",
       "      <td>RENT</td>\n",
       "      <td>30000.0</td>\n",
       "      <td>...</td>\n",
       "      <td>Dec-11</td>\n",
       "      <td>Charged Off</td>\n",
       "      <td>car</td>\n",
       "      <td>1.00</td>\n",
       "      <td>Apr-99</td>\n",
       "      <td>5</td>\n",
       "      <td>3</td>\n",
       "      <td>0</td>\n",
       "      <td>9.40%</td>\n",
       "      <td>4</td>\n",
       "    </tr>\n",
       "    <tr>\n",
       "      <th>2</th>\n",
       "      <td>2400</td>\n",
       "      <td>2400.0</td>\n",
       "      <td>36 months</td>\n",
       "      <td>15.96%</td>\n",
       "      <td>84.33</td>\n",
       "      <td>C</td>\n",
       "      <td>C5</td>\n",
       "      <td>10+ years</td>\n",
       "      <td>RENT</td>\n",
       "      <td>12252.0</td>\n",
       "      <td>...</td>\n",
       "      <td>Dec-11</td>\n",
       "      <td>Fully Paid</td>\n",
       "      <td>small_business</td>\n",
       "      <td>8.72</td>\n",
       "      <td>Nov-01</td>\n",
       "      <td>2</td>\n",
       "      <td>2</td>\n",
       "      <td>0</td>\n",
       "      <td>98.50%</td>\n",
       "      <td>10</td>\n",
       "    </tr>\n",
       "    <tr>\n",
       "      <th>3</th>\n",
       "      <td>10000</td>\n",
       "      <td>10000.0</td>\n",
       "      <td>36 months</td>\n",
       "      <td>13.49%</td>\n",
       "      <td>339.31</td>\n",
       "      <td>C</td>\n",
       "      <td>C1</td>\n",
       "      <td>10+ years</td>\n",
       "      <td>RENT</td>\n",
       "      <td>49200.0</td>\n",
       "      <td>...</td>\n",
       "      <td>Dec-11</td>\n",
       "      <td>Fully Paid</td>\n",
       "      <td>other</td>\n",
       "      <td>20.00</td>\n",
       "      <td>Feb-96</td>\n",
       "      <td>1</td>\n",
       "      <td>10</td>\n",
       "      <td>0</td>\n",
       "      <td>21%</td>\n",
       "      <td>37</td>\n",
       "    </tr>\n",
       "    <tr>\n",
       "      <th>4</th>\n",
       "      <td>3000</td>\n",
       "      <td>3000.0</td>\n",
       "      <td>60 months</td>\n",
       "      <td>12.69%</td>\n",
       "      <td>67.79</td>\n",
       "      <td>B</td>\n",
       "      <td>B5</td>\n",
       "      <td>1 year</td>\n",
       "      <td>RENT</td>\n",
       "      <td>80000.0</td>\n",
       "      <td>...</td>\n",
       "      <td>Dec-11</td>\n",
       "      <td>Current</td>\n",
       "      <td>other</td>\n",
       "      <td>17.94</td>\n",
       "      <td>Jan-96</td>\n",
       "      <td>0</td>\n",
       "      <td>15</td>\n",
       "      <td>0</td>\n",
       "      <td>53.90%</td>\n",
       "      <td>38</td>\n",
       "    </tr>\n",
       "  </tbody>\n",
       "</table>\n",
       "<p>5 rows × 21 columns</p>\n",
       "</div>"
      ],
      "text/plain": [
       "   loan_amnt  funded_amnt_inv        term int_rate  installment grade  \\\n",
       "0       5000           4975.0   36 months   10.65%       162.87     B   \n",
       "1       2500           2500.0   60 months   15.27%        59.83     C   \n",
       "2       2400           2400.0   36 months   15.96%        84.33     C   \n",
       "3      10000          10000.0   36 months   13.49%       339.31     C   \n",
       "4       3000           3000.0   60 months   12.69%        67.79     B   \n",
       "\n",
       "  sub_grade emp_length home_ownership  annual_inc  ... issue_d  loan_status  \\\n",
       "0        B2  10+ years           RENT     24000.0  ...  Dec-11   Fully Paid   \n",
       "1        C4   < 1 year           RENT     30000.0  ...  Dec-11  Charged Off   \n",
       "2        C5  10+ years           RENT     12252.0  ...  Dec-11   Fully Paid   \n",
       "3        C1  10+ years           RENT     49200.0  ...  Dec-11   Fully Paid   \n",
       "4        B5     1 year           RENT     80000.0  ...  Dec-11      Current   \n",
       "\n",
       "          purpose    dti  earliest_cr_line inq_last_6mths  open_acc  pub_rec  \\\n",
       "0     credit_card  27.65            Jan-85              1         3        0   \n",
       "1             car   1.00            Apr-99              5         3        0   \n",
       "2  small_business   8.72            Nov-01              2         2        0   \n",
       "3           other  20.00            Feb-96              1        10        0   \n",
       "4           other  17.94            Jan-96              0        15        0   \n",
       "\n",
       "   revol_util total_acc  \n",
       "0      83.70%         9  \n",
       "1       9.40%         4  \n",
       "2      98.50%        10  \n",
       "3         21%        37  \n",
       "4      53.90%        38  \n",
       "\n",
       "[5 rows x 21 columns]"
      ]
     },
     "execution_count": 12,
     "metadata": {},
     "output_type": "execute_result"
    }
   ],
   "source": [
    "df.head()"
   ]
  },
  {
   "cell_type": "code",
   "execution_count": 13,
   "id": "2a8d5f13",
   "metadata": {},
   "outputs": [
    {
     "data": {
      "text/plain": [
       "0         Fully Paid\n",
       "1        Charged Off\n",
       "2         Fully Paid\n",
       "3         Fully Paid\n",
       "4            Current\n",
       "            ...     \n",
       "39712     Fully Paid\n",
       "39713     Fully Paid\n",
       "39714     Fully Paid\n",
       "39715     Fully Paid\n",
       "39716     Fully Paid\n",
       "Name: loan_status, Length: 39717, dtype: object"
      ]
     },
     "execution_count": 13,
     "metadata": {},
     "output_type": "execute_result"
    }
   ],
   "source": [
    "# drop the loans which are currently running. They are not going to help.\n",
    "df.loan_status"
   ]
  },
  {
   "cell_type": "code",
   "execution_count": 14,
   "id": "eefc6e2e",
   "metadata": {},
   "outputs": [],
   "source": [
    "df = df[df.loan_status != \"Current\"]"
   ]
  },
  {
   "cell_type": "code",
   "execution_count": 15,
   "id": "9f046e7e",
   "metadata": {},
   "outputs": [
    {
     "data": {
      "text/plain": [
       "(38577, 21)"
      ]
     },
     "execution_count": 15,
     "metadata": {},
     "output_type": "execute_result"
    }
   ],
   "source": [
    "df.shape"
   ]
  },
  {
   "cell_type": "code",
   "execution_count": 16,
   "id": "e5ab2a55",
   "metadata": {},
   "outputs": [
    {
     "data": {
      "text/plain": [
       "array(['Fully Paid', 'Charged Off'], dtype=object)"
      ]
     },
     "execution_count": 16,
     "metadata": {},
     "output_type": "execute_result"
    }
   ],
   "source": [
    "# checking if current is really dropped.\n",
    "df.loan_status.unique()"
   ]
  },
  {
   "cell_type": "code",
   "execution_count": 17,
   "id": "1a7ebaf9",
   "metadata": {},
   "outputs": [
    {
     "name": "stdout",
     "output_type": "stream",
     "text": [
      "<class 'pandas.core.frame.DataFrame'>\n",
      "Int64Index: 38577 entries, 0 to 39716\n",
      "Data columns (total 21 columns):\n",
      " #   Column               Non-Null Count  Dtype  \n",
      "---  ------               --------------  -----  \n",
      " 0   loan_amnt            38577 non-null  int64  \n",
      " 1   funded_amnt_inv      38577 non-null  float64\n",
      " 2   term                 38577 non-null  object \n",
      " 3   int_rate             38577 non-null  object \n",
      " 4   installment          38577 non-null  float64\n",
      " 5   grade                38577 non-null  object \n",
      " 6   sub_grade            38577 non-null  object \n",
      " 7   emp_length           37544 non-null  object \n",
      " 8   home_ownership       38577 non-null  object \n",
      " 9   annual_inc           38577 non-null  float64\n",
      " 10  verification_status  38577 non-null  object \n",
      " 11  issue_d              38577 non-null  object \n",
      " 12  loan_status          38577 non-null  object \n",
      " 13  purpose              38577 non-null  object \n",
      " 14  dti                  38577 non-null  float64\n",
      " 15  earliest_cr_line     38577 non-null  object \n",
      " 16  inq_last_6mths       38577 non-null  int64  \n",
      " 17  open_acc             38577 non-null  int64  \n",
      " 18  pub_rec              38577 non-null  int64  \n",
      " 19  revol_util           38527 non-null  object \n",
      " 20  total_acc            38577 non-null  int64  \n",
      "dtypes: float64(4), int64(5), object(12)\n",
      "memory usage: 6.5+ MB\n"
     ]
    }
   ],
   "source": [
    "# Missing values if any.\n",
    "df.info()"
   ]
  },
  {
   "cell_type": "code",
   "execution_count": 18,
   "id": "ff90e77f",
   "metadata": {},
   "outputs": [],
   "source": [
    "# Seems emp_length has around 1033 missing values while revol_util has 50. Lets see the data they hold."
   ]
  },
  {
   "cell_type": "code",
   "execution_count": 19,
   "id": "69d388be",
   "metadata": {},
   "outputs": [
    {
     "data": {
      "text/plain": [
       "0        10+ years\n",
       "1         < 1 year\n",
       "2        10+ years\n",
       "3        10+ years\n",
       "5          3 years\n",
       "           ...    \n",
       "39712      4 years\n",
       "39713      3 years\n",
       "39714     < 1 year\n",
       "39715     < 1 year\n",
       "39716     < 1 year\n",
       "Name: emp_length, Length: 38577, dtype: object"
      ]
     },
     "execution_count": 19,
     "metadata": {},
     "output_type": "execute_result"
    }
   ],
   "source": [
    "# emp_length\n",
    "df.emp_length"
   ]
  },
  {
   "cell_type": "code",
   "execution_count": 20,
   "id": "bf90d454",
   "metadata": {},
   "outputs": [
    {
     "data": {
      "text/plain": [
       "10    8488\n",
       "1     7677\n",
       "2     4291\n",
       "3     4012\n",
       "4     3342\n",
       "5     3194\n",
       "6     2168\n",
       "7     1711\n",
       "8     1435\n",
       "9     1226\n",
       "Name: emp_length, dtype: int64"
      ]
     },
     "execution_count": 20,
     "metadata": {},
     "output_type": "execute_result"
    }
   ],
   "source": [
    "# We will transform the data for emp_length so that it is integer field.\n",
    "df.emp_length = df.emp_length.str.rstrip(\"+ years\")\n",
    "df.emp_length = df.emp_length.str.lstrip(\"< \")\n",
    "df.emp_length.value_counts()"
   ]
  },
  {
   "cell_type": "code",
   "execution_count": 21,
   "id": "232fa803",
   "metadata": {},
   "outputs": [
    {
     "data": {
      "text/plain": [
       "array([0.02677761])"
      ]
     },
     "execution_count": 21,
     "metadata": {},
     "output_type": "execute_result"
    }
   ],
   "source": [
    "df.emp_length.isna().sum() / df.emp_length.shape"
   ]
  },
  {
   "cell_type": "code",
   "execution_count": 22,
   "id": "225a23fc",
   "metadata": {},
   "outputs": [],
   "source": [
    "# Almost 2.5% of data is empty. 30% of data is 10+ and 25% is 1+. Let us fill the data using mode.\n",
    "df.emp_length.fillna(df.emp_length.mode()[0], inplace=True)"
   ]
  },
  {
   "cell_type": "code",
   "execution_count": 23,
   "id": "f3b5ecec",
   "metadata": {},
   "outputs": [
    {
     "data": {
      "text/plain": [
       "10    9521\n",
       "1     7677\n",
       "2     4291\n",
       "3     4012\n",
       "4     3342\n",
       "5     3194\n",
       "6     2168\n",
       "7     1711\n",
       "8     1435\n",
       "9     1226\n",
       "Name: emp_length, dtype: int64"
      ]
     },
     "execution_count": 23,
     "metadata": {},
     "output_type": "execute_result"
    }
   ],
   "source": [
    "df.emp_length.value_counts()"
   ]
  },
  {
   "cell_type": "code",
   "execution_count": 24,
   "id": "3120e6d4",
   "metadata": {},
   "outputs": [],
   "source": [
    "# Convert data to numeric columns.\n",
    "df.emp_length = df.emp_length.astype('int')"
   ]
  },
  {
   "cell_type": "code",
   "execution_count": 25,
   "id": "c4c7964a",
   "metadata": {},
   "outputs": [],
   "source": [
    "# Now lets drop NA for revol_utils too\n",
    "df.dropna(subset=['revol_util'], axis=0, inplace=True)"
   ]
  },
  {
   "cell_type": "code",
   "execution_count": 26,
   "id": "ffeff387",
   "metadata": {},
   "outputs": [
    {
     "data": {
      "text/plain": [
       "0"
      ]
     },
     "execution_count": 26,
     "metadata": {},
     "output_type": "execute_result"
    }
   ],
   "source": [
    "df.revol_util.isna().sum()"
   ]
  },
  {
   "cell_type": "code",
   "execution_count": 27,
   "id": "3ac127b8",
   "metadata": {},
   "outputs": [
    {
     "data": {
      "text/plain": [
       "0        83.70%\n",
       "1         9.40%\n",
       "2        98.50%\n",
       "3           21%\n",
       "5        28.30%\n",
       "          ...  \n",
       "39712    13.10%\n",
       "39713    26.90%\n",
       "39714    19.40%\n",
       "39715     0.70%\n",
       "39716    51.50%\n",
       "Name: revol_util, Length: 38527, dtype: object"
      ]
     },
     "execution_count": 27,
     "metadata": {},
     "output_type": "execute_result"
    }
   ],
   "source": [
    "df.revol_util"
   ]
  },
  {
   "cell_type": "code",
   "execution_count": 28,
   "id": "f54f28fd",
   "metadata": {},
   "outputs": [
    {
     "data": {
      "text/plain": [
       "0        83.7\n",
       "1         9.4\n",
       "2        98.5\n",
       "3        21.0\n",
       "5        28.3\n",
       "         ... \n",
       "39712    13.1\n",
       "39713    26.9\n",
       "39714    19.4\n",
       "39715     0.7\n",
       "39716    51.5\n",
       "Name: revol_util, Length: 38527, dtype: float64"
      ]
     },
     "execution_count": 28,
     "metadata": {},
     "output_type": "execute_result"
    }
   ],
   "source": [
    "# Let's convert revol_util to float. \n",
    "df.revol_util = df.revol_util.str.rstrip(\"%\")\n",
    "df.revol_util = df.revol_util.astype(\"float\")\n",
    "df.revol_util"
   ]
  },
  {
   "cell_type": "code",
   "execution_count": 29,
   "id": "d67db5d5",
   "metadata": {},
   "outputs": [
    {
     "data": {
      "text/plain": [
       "0        10.65%\n",
       "1        15.27%\n",
       "2        15.96%\n",
       "3        13.49%\n",
       "5         7.90%\n",
       "          ...  \n",
       "39712     8.07%\n",
       "39713    10.28%\n",
       "39714     8.07%\n",
       "39715     7.43%\n",
       "39716    13.75%\n",
       "Name: int_rate, Length: 38527, dtype: object"
      ]
     },
     "execution_count": 29,
     "metadata": {},
     "output_type": "execute_result"
    }
   ],
   "source": [
    "# int_rate might also have % symbol. Let's convert that too\n",
    "df.int_rate"
   ]
  },
  {
   "cell_type": "code",
   "execution_count": 30,
   "id": "20c080df",
   "metadata": {},
   "outputs": [
    {
     "data": {
      "text/plain": [
       "0        10.65\n",
       "1        15.27\n",
       "2        15.96\n",
       "3        13.49\n",
       "5         7.90\n",
       "         ...  \n",
       "39712     8.07\n",
       "39713    10.28\n",
       "39714     8.07\n",
       "39715     7.43\n",
       "39716    13.75\n",
       "Name: int_rate, Length: 38527, dtype: float64"
      ]
     },
     "execution_count": 30,
     "metadata": {},
     "output_type": "execute_result"
    }
   ],
   "source": [
    "df.int_rate = df.int_rate.str.rstrip(\"%\")\n",
    "df.int_rate = df.int_rate.astype(\"float\")\n",
    "df.int_rate"
   ]
  },
  {
   "cell_type": "code",
   "execution_count": 31,
   "id": "dc5aba8b",
   "metadata": {},
   "outputs": [
    {
     "data": {
      "text/html": [
       "<div>\n",
       "<style scoped>\n",
       "    .dataframe tbody tr th:only-of-type {\n",
       "        vertical-align: middle;\n",
       "    }\n",
       "\n",
       "    .dataframe tbody tr th {\n",
       "        vertical-align: top;\n",
       "    }\n",
       "\n",
       "    .dataframe thead th {\n",
       "        text-align: right;\n",
       "    }\n",
       "</style>\n",
       "<table border=\"1\" class=\"dataframe\">\n",
       "  <thead>\n",
       "    <tr style=\"text-align: right;\">\n",
       "      <th></th>\n",
       "      <th>loan_amnt</th>\n",
       "      <th>funded_amnt_inv</th>\n",
       "      <th>term</th>\n",
       "      <th>int_rate</th>\n",
       "      <th>installment</th>\n",
       "      <th>grade</th>\n",
       "      <th>sub_grade</th>\n",
       "      <th>emp_length</th>\n",
       "      <th>home_ownership</th>\n",
       "      <th>annual_inc</th>\n",
       "      <th>...</th>\n",
       "      <th>issue_d</th>\n",
       "      <th>loan_status</th>\n",
       "      <th>purpose</th>\n",
       "      <th>dti</th>\n",
       "      <th>earliest_cr_line</th>\n",
       "      <th>inq_last_6mths</th>\n",
       "      <th>open_acc</th>\n",
       "      <th>pub_rec</th>\n",
       "      <th>revol_util</th>\n",
       "      <th>total_acc</th>\n",
       "    </tr>\n",
       "  </thead>\n",
       "  <tbody>\n",
       "    <tr>\n",
       "      <th>0</th>\n",
       "      <td>5000</td>\n",
       "      <td>4975.0</td>\n",
       "      <td>36 months</td>\n",
       "      <td>10.65</td>\n",
       "      <td>162.87</td>\n",
       "      <td>B</td>\n",
       "      <td>B2</td>\n",
       "      <td>10</td>\n",
       "      <td>RENT</td>\n",
       "      <td>24000.0</td>\n",
       "      <td>...</td>\n",
       "      <td>Dec-11</td>\n",
       "      <td>Fully Paid</td>\n",
       "      <td>credit_card</td>\n",
       "      <td>27.65</td>\n",
       "      <td>Jan-85</td>\n",
       "      <td>1</td>\n",
       "      <td>3</td>\n",
       "      <td>0</td>\n",
       "      <td>83.7</td>\n",
       "      <td>9</td>\n",
       "    </tr>\n",
       "    <tr>\n",
       "      <th>1</th>\n",
       "      <td>2500</td>\n",
       "      <td>2500.0</td>\n",
       "      <td>60 months</td>\n",
       "      <td>15.27</td>\n",
       "      <td>59.83</td>\n",
       "      <td>C</td>\n",
       "      <td>C4</td>\n",
       "      <td>1</td>\n",
       "      <td>RENT</td>\n",
       "      <td>30000.0</td>\n",
       "      <td>...</td>\n",
       "      <td>Dec-11</td>\n",
       "      <td>Charged Off</td>\n",
       "      <td>car</td>\n",
       "      <td>1.00</td>\n",
       "      <td>Apr-99</td>\n",
       "      <td>5</td>\n",
       "      <td>3</td>\n",
       "      <td>0</td>\n",
       "      <td>9.4</td>\n",
       "      <td>4</td>\n",
       "    </tr>\n",
       "    <tr>\n",
       "      <th>2</th>\n",
       "      <td>2400</td>\n",
       "      <td>2400.0</td>\n",
       "      <td>36 months</td>\n",
       "      <td>15.96</td>\n",
       "      <td>84.33</td>\n",
       "      <td>C</td>\n",
       "      <td>C5</td>\n",
       "      <td>10</td>\n",
       "      <td>RENT</td>\n",
       "      <td>12252.0</td>\n",
       "      <td>...</td>\n",
       "      <td>Dec-11</td>\n",
       "      <td>Fully Paid</td>\n",
       "      <td>small_business</td>\n",
       "      <td>8.72</td>\n",
       "      <td>Nov-01</td>\n",
       "      <td>2</td>\n",
       "      <td>2</td>\n",
       "      <td>0</td>\n",
       "      <td>98.5</td>\n",
       "      <td>10</td>\n",
       "    </tr>\n",
       "    <tr>\n",
       "      <th>3</th>\n",
       "      <td>10000</td>\n",
       "      <td>10000.0</td>\n",
       "      <td>36 months</td>\n",
       "      <td>13.49</td>\n",
       "      <td>339.31</td>\n",
       "      <td>C</td>\n",
       "      <td>C1</td>\n",
       "      <td>10</td>\n",
       "      <td>RENT</td>\n",
       "      <td>49200.0</td>\n",
       "      <td>...</td>\n",
       "      <td>Dec-11</td>\n",
       "      <td>Fully Paid</td>\n",
       "      <td>other</td>\n",
       "      <td>20.00</td>\n",
       "      <td>Feb-96</td>\n",
       "      <td>1</td>\n",
       "      <td>10</td>\n",
       "      <td>0</td>\n",
       "      <td>21.0</td>\n",
       "      <td>37</td>\n",
       "    </tr>\n",
       "    <tr>\n",
       "      <th>5</th>\n",
       "      <td>5000</td>\n",
       "      <td>5000.0</td>\n",
       "      <td>36 months</td>\n",
       "      <td>7.90</td>\n",
       "      <td>156.46</td>\n",
       "      <td>A</td>\n",
       "      <td>A4</td>\n",
       "      <td>3</td>\n",
       "      <td>RENT</td>\n",
       "      <td>36000.0</td>\n",
       "      <td>...</td>\n",
       "      <td>Dec-11</td>\n",
       "      <td>Fully Paid</td>\n",
       "      <td>wedding</td>\n",
       "      <td>11.20</td>\n",
       "      <td>Nov-04</td>\n",
       "      <td>3</td>\n",
       "      <td>9</td>\n",
       "      <td>0</td>\n",
       "      <td>28.3</td>\n",
       "      <td>12</td>\n",
       "    </tr>\n",
       "  </tbody>\n",
       "</table>\n",
       "<p>5 rows × 21 columns</p>\n",
       "</div>"
      ],
      "text/plain": [
       "   loan_amnt  funded_amnt_inv        term  int_rate  installment grade  \\\n",
       "0       5000           4975.0   36 months     10.65       162.87     B   \n",
       "1       2500           2500.0   60 months     15.27        59.83     C   \n",
       "2       2400           2400.0   36 months     15.96        84.33     C   \n",
       "3      10000          10000.0   36 months     13.49       339.31     C   \n",
       "5       5000           5000.0   36 months      7.90       156.46     A   \n",
       "\n",
       "  sub_grade  emp_length home_ownership  annual_inc  ... issue_d  loan_status  \\\n",
       "0        B2          10           RENT     24000.0  ...  Dec-11   Fully Paid   \n",
       "1        C4           1           RENT     30000.0  ...  Dec-11  Charged Off   \n",
       "2        C5          10           RENT     12252.0  ...  Dec-11   Fully Paid   \n",
       "3        C1          10           RENT     49200.0  ...  Dec-11   Fully Paid   \n",
       "5        A4           3           RENT     36000.0  ...  Dec-11   Fully Paid   \n",
       "\n",
       "          purpose    dti  earliest_cr_line inq_last_6mths  open_acc  pub_rec  \\\n",
       "0     credit_card  27.65            Jan-85              1         3        0   \n",
       "1             car   1.00            Apr-99              5         3        0   \n",
       "2  small_business   8.72            Nov-01              2         2        0   \n",
       "3           other  20.00            Feb-96              1        10        0   \n",
       "5         wedding  11.20            Nov-04              3         9        0   \n",
       "\n",
       "   revol_util  total_acc  \n",
       "0        83.7          9  \n",
       "1         9.4          4  \n",
       "2        98.5         10  \n",
       "3        21.0         37  \n",
       "5        28.3         12  \n",
       "\n",
       "[5 rows x 21 columns]"
      ]
     },
     "execution_count": 31,
     "metadata": {},
     "output_type": "execute_result"
    }
   ],
   "source": [
    "# Lets check other columns too. \n",
    "df.head()"
   ]
  },
  {
   "cell_type": "code",
   "execution_count": 32,
   "id": "8b6fb916",
   "metadata": {},
   "outputs": [
    {
     "data": {
      "text/plain": [
       "array([' 36 months', ' 60 months'], dtype=object)"
      ]
     },
     "execution_count": 32,
     "metadata": {},
     "output_type": "execute_result"
    }
   ],
   "source": [
    "# Identify candidates for categorical analysis.\n",
    "df.term.unique()"
   ]
  },
  {
   "cell_type": "code",
   "execution_count": 33,
   "id": "e714af97",
   "metadata": {},
   "outputs": [
    {
     "data": {
      "text/plain": [
       "array(['B', 'C', 'A', 'E', 'F', 'D', 'G'], dtype=object)"
      ]
     },
     "execution_count": 33,
     "metadata": {},
     "output_type": "execute_result"
    }
   ],
   "source": [
    "df.grade.unique()"
   ]
  },
  {
   "cell_type": "code",
   "execution_count": 34,
   "id": "e79b67dc",
   "metadata": {},
   "outputs": [
    {
     "data": {
      "text/plain": [
       "array(['RENT', 'OWN', 'MORTGAGE', 'OTHER', 'NONE'], dtype=object)"
      ]
     },
     "execution_count": 34,
     "metadata": {},
     "output_type": "execute_result"
    }
   ],
   "source": [
    "df.home_ownership.unique()"
   ]
  },
  {
   "cell_type": "code",
   "execution_count": 35,
   "id": "9c11ee5e",
   "metadata": {},
   "outputs": [
    {
     "data": {
      "text/plain": [
       "array(['Fully Paid', 'Charged Off'], dtype=object)"
      ]
     },
     "execution_count": 35,
     "metadata": {},
     "output_type": "execute_result"
    }
   ],
   "source": [
    "df.loan_status.unique()"
   ]
  },
  {
   "cell_type": "code",
   "execution_count": 36,
   "id": "71c221c5",
   "metadata": {},
   "outputs": [
    {
     "data": {
      "text/plain": [
       "array([0, 1, 2, 3, 4])"
      ]
     },
     "execution_count": 36,
     "metadata": {},
     "output_type": "execute_result"
    }
   ],
   "source": [
    "df.pub_rec.unique() # This seems to be interesting. Represents number of derogatory public records."
   ]
  },
  {
   "cell_type": "code",
   "execution_count": 37,
   "id": "4419b7c1",
   "metadata": {},
   "outputs": [],
   "source": [
    "df.annual_inc = df.annual_inc.astype(\"int\")"
   ]
  },
  {
   "cell_type": "markdown",
   "id": "45c754da",
   "metadata": {},
   "source": [
    "## Outliers"
   ]
  },
  {
   "cell_type": "code",
   "execution_count": 38,
   "id": "e7c2f37d",
   "metadata": {},
   "outputs": [
    {
     "data": {
      "text/plain": [
       "<AxesSubplot:xlabel='annual_inc'>"
      ]
     },
     "execution_count": 38,
     "metadata": {},
     "output_type": "execute_result"
    },
    {
     "data": {
      "image/png": "[encoded data removed]",
      "text/plain": [
       "<Figure size 432x288 with 1 Axes>"
      ]
     },
     "metadata": {
      "needs_background": "light"
     },
     "output_type": "display_data"
    }
   ],
   "source": [
    "# There is one column called annual income. It might contain the outliers. Need to process them.\n",
    "# Lets check if it's present or not.\n",
    "import seaborn as sns\n",
    "\n",
    "sns.boxplot(x=df['annual_inc'])"
   ]
  },
  {
   "cell_type": "code",
   "execution_count": 39,
   "id": "b8450ec7",
   "metadata": {},
   "outputs": [
    {
     "data": {
      "text/html": [
       "<div>\n",
       "<style scoped>\n",
       "    .dataframe tbody tr th:only-of-type {\n",
       "        vertical-align: middle;\n",
       "    }\n",
       "\n",
       "    .dataframe tbody tr th {\n",
       "        vertical-align: top;\n",
       "    }\n",
       "\n",
       "    .dataframe thead th {\n",
       "        text-align: right;\n",
       "    }\n",
       "</style>\n",
       "<table border=\"1\" class=\"dataframe\">\n",
       "  <thead>\n",
       "    <tr style=\"text-align: right;\">\n",
       "      <th></th>\n",
       "      <th>loan_amnt</th>\n",
       "      <th>funded_amnt_inv</th>\n",
       "      <th>term</th>\n",
       "      <th>int_rate</th>\n",
       "      <th>installment</th>\n",
       "      <th>grade</th>\n",
       "      <th>sub_grade</th>\n",
       "      <th>emp_length</th>\n",
       "      <th>home_ownership</th>\n",
       "      <th>annual_inc</th>\n",
       "      <th>...</th>\n",
       "      <th>issue_d</th>\n",
       "      <th>loan_status</th>\n",
       "      <th>purpose</th>\n",
       "      <th>dti</th>\n",
       "      <th>earliest_cr_line</th>\n",
       "      <th>inq_last_6mths</th>\n",
       "      <th>open_acc</th>\n",
       "      <th>pub_rec</th>\n",
       "      <th>revol_util</th>\n",
       "      <th>total_acc</th>\n",
       "    </tr>\n",
       "  </thead>\n",
       "  <tbody>\n",
       "    <tr>\n",
       "      <th>0</th>\n",
       "      <td>5000</td>\n",
       "      <td>4975.0</td>\n",
       "      <td>36 months</td>\n",
       "      <td>10.65</td>\n",
       "      <td>162.87</td>\n",
       "      <td>B</td>\n",
       "      <td>B2</td>\n",
       "      <td>10</td>\n",
       "      <td>RENT</td>\n",
       "      <td>24000</td>\n",
       "      <td>...</td>\n",
       "      <td>Dec-11</td>\n",
       "      <td>Fully Paid</td>\n",
       "      <td>credit_card</td>\n",
       "      <td>27.65</td>\n",
       "      <td>Jan-85</td>\n",
       "      <td>1</td>\n",
       "      <td>3</td>\n",
       "      <td>0</td>\n",
       "      <td>83.7</td>\n",
       "      <td>9</td>\n",
       "    </tr>\n",
       "    <tr>\n",
       "      <th>1</th>\n",
       "      <td>2500</td>\n",
       "      <td>2500.0</td>\n",
       "      <td>60 months</td>\n",
       "      <td>15.27</td>\n",
       "      <td>59.83</td>\n",
       "      <td>C</td>\n",
       "      <td>C4</td>\n",
       "      <td>1</td>\n",
       "      <td>RENT</td>\n",
       "      <td>30000</td>\n",
       "      <td>...</td>\n",
       "      <td>Dec-11</td>\n",
       "      <td>Charged Off</td>\n",
       "      <td>car</td>\n",
       "      <td>1.00</td>\n",
       "      <td>Apr-99</td>\n",
       "      <td>5</td>\n",
       "      <td>3</td>\n",
       "      <td>0</td>\n",
       "      <td>9.4</td>\n",
       "      <td>4</td>\n",
       "    </tr>\n",
       "    <tr>\n",
       "      <th>2</th>\n",
       "      <td>2400</td>\n",
       "      <td>2400.0</td>\n",
       "      <td>36 months</td>\n",
       "      <td>15.96</td>\n",
       "      <td>84.33</td>\n",
       "      <td>C</td>\n",
       "      <td>C5</td>\n",
       "      <td>10</td>\n",
       "      <td>RENT</td>\n",
       "      <td>12252</td>\n",
       "      <td>...</td>\n",
       "      <td>Dec-11</td>\n",
       "      <td>Fully Paid</td>\n",
       "      <td>small_business</td>\n",
       "      <td>8.72</td>\n",
       "      <td>Nov-01</td>\n",
       "      <td>2</td>\n",
       "      <td>2</td>\n",
       "      <td>0</td>\n",
       "      <td>98.5</td>\n",
       "      <td>10</td>\n",
       "    </tr>\n",
       "    <tr>\n",
       "      <th>3</th>\n",
       "      <td>10000</td>\n",
       "      <td>10000.0</td>\n",
       "      <td>36 months</td>\n",
       "      <td>13.49</td>\n",
       "      <td>339.31</td>\n",
       "      <td>C</td>\n",
       "      <td>C1</td>\n",
       "      <td>10</td>\n",
       "      <td>RENT</td>\n",
       "      <td>49200</td>\n",
       "      <td>...</td>\n",
       "      <td>Dec-11</td>\n",
       "      <td>Fully Paid</td>\n",
       "      <td>other</td>\n",
       "      <td>20.00</td>\n",
       "      <td>Feb-96</td>\n",
       "      <td>1</td>\n",
       "      <td>10</td>\n",
       "      <td>0</td>\n",
       "      <td>21.0</td>\n",
       "      <td>37</td>\n",
       "    </tr>\n",
       "    <tr>\n",
       "      <th>5</th>\n",
       "      <td>5000</td>\n",
       "      <td>5000.0</td>\n",
       "      <td>36 months</td>\n",
       "      <td>7.90</td>\n",
       "      <td>156.46</td>\n",
       "      <td>A</td>\n",
       "      <td>A4</td>\n",
       "      <td>3</td>\n",
       "      <td>RENT</td>\n",
       "      <td>36000</td>\n",
       "      <td>...</td>\n",
       "      <td>Dec-11</td>\n",
       "      <td>Fully Paid</td>\n",
       "      <td>wedding</td>\n",
       "      <td>11.20</td>\n",
       "      <td>Nov-04</td>\n",
       "      <td>3</td>\n",
       "      <td>9</td>\n",
       "      <td>0</td>\n",
       "      <td>28.3</td>\n",
       "      <td>12</td>\n",
       "    </tr>\n",
       "  </tbody>\n",
       "</table>\n",
       "<p>5 rows × 21 columns</p>\n",
       "</div>"
      ],
      "text/plain": [
       "   loan_amnt  funded_amnt_inv        term  int_rate  installment grade  \\\n",
       "0       5000           4975.0   36 months     10.65       162.87     B   \n",
       "1       2500           2500.0   60 months     15.27        59.83     C   \n",
       "2       2400           2400.0   36 months     15.96        84.33     C   \n",
       "3      10000          10000.0   36 months     13.49       339.31     C   \n",
       "5       5000           5000.0   36 months      7.90       156.46     A   \n",
       "\n",
       "  sub_grade  emp_length home_ownership  annual_inc  ... issue_d  loan_status  \\\n",
       "0        B2          10           RENT       24000  ...  Dec-11   Fully Paid   \n",
       "1        C4           1           RENT       30000  ...  Dec-11  Charged Off   \n",
       "2        C5          10           RENT       12252  ...  Dec-11   Fully Paid   \n",
       "3        C1          10           RENT       49200  ...  Dec-11   Fully Paid   \n",
       "5        A4           3           RENT       36000  ...  Dec-11   Fully Paid   \n",
       "\n",
       "          purpose    dti  earliest_cr_line inq_last_6mths  open_acc  pub_rec  \\\n",
       "0     credit_card  27.65            Jan-85              1         3        0   \n",
       "1             car   1.00            Apr-99              5         3        0   \n",
       "2  small_business   8.72            Nov-01              2         2        0   \n",
       "3           other  20.00            Feb-96              1        10        0   \n",
       "5         wedding  11.20            Nov-04              3         9        0   \n",
       "\n",
       "   revol_util  total_acc  \n",
       "0        83.7          9  \n",
       "1         9.4          4  \n",
       "2        98.5         10  \n",
       "3        21.0         37  \n",
       "5        28.3         12  \n",
       "\n",
       "[5 rows x 21 columns]"
      ]
     },
     "execution_count": 39,
     "metadata": {},
     "output_type": "execute_result"
    }
   ],
   "source": [
    "# Clearly outliers are present. Let's drop them. We will select value with < 92.5 percentils of the data which is \n",
    "# standard in statistics.\n",
    "percentile_annual_inc = df['annual_inc'].quantile(0.925)\n",
    "df = df[df.annual_inc <= percentile_annual_inc]\n",
    "df.head()"
   ]
  },
  {
   "cell_type": "code",
   "execution_count": 40,
   "id": "cc846f34",
   "metadata": {},
   "outputs": [
    {
     "data": {
      "text/plain": [
       "(35744, 21)"
      ]
     },
     "execution_count": 40,
     "metadata": {},
     "output_type": "execute_result"
    }
   ],
   "source": [
    "df.shape"
   ]
  },
  {
   "cell_type": "code",
   "execution_count": 41,
   "id": "210e3f4f",
   "metadata": {},
   "outputs": [
    {
     "data": {
      "text/plain": [
       "<AxesSubplot:xlabel='annual_inc'>"
      ]
     },
     "execution_count": 41,
     "metadata": {},
     "output_type": "execute_result"
    },
    {
     "data": {
      "image/png": "[encoded data removed]",
      "text/plain": [
       "<Figure size 432x288 with 1 Axes>"
      ]
     },
     "metadata": {
      "needs_background": "light"
     },
     "output_type": "display_data"
    }
   ],
   "source": [
    "sns.boxplot(x=df['annual_inc'])"
   ]
  },
  {
   "cell_type": "code",
   "execution_count": 42,
   "id": "876d6fc3",
   "metadata": {},
   "outputs": [
    {
     "data": {
      "text/plain": [
       "<AxesSubplot:xlabel='dti'>"
      ]
     },
     "execution_count": 42,
     "metadata": {},
     "output_type": "execute_result"
    },
    {
     "data": {
      "image/png": "[encoded data removed]",
      "text/plain": [
       "<Figure size 432x288 with 1 Axes>"
      ]
     },
     "metadata": {
      "needs_background": "light"
     },
     "output_type": "display_data"
    }
   ],
   "source": [
    "# Let's check the shape of other numeric columns like loan_amount, dti\n",
    "sns.boxplot(x=df.dti)"
   ]
  },
  {
   "cell_type": "code",
   "execution_count": 43,
   "id": "6d03bca1",
   "metadata": {},
   "outputs": [
    {
     "data": {
      "text/plain": [
       "<AxesSubplot:xlabel='loan_amnt'>"
      ]
     },
     "execution_count": 43,
     "metadata": {},
     "output_type": "execute_result"
    },
    {
     "data": {
      "image/png": "[encoded data removed]",
      "text/plain": [
       "<Figure size 432x288 with 1 Axes>"
      ]
     },
     "metadata": {
      "needs_background": "light"
     },
     "output_type": "display_data"
    }
   ],
   "source": [
    "# loan_amount\n",
    "sns.boxplot(x=df.loan_amnt)"
   ]
  },
  {
   "cell_type": "code",
   "execution_count": 44,
   "id": "944c58a0",
   "metadata": {},
   "outputs": [
    {
     "data": {
      "text/plain": [
       "0.750    14531.25\n",
       "0.900    20000.00\n",
       "0.950    25000.00\n",
       "0.970    25000.00\n",
       "0.975    27050.00\n",
       "0.980    29857.00\n",
       "0.990    35000.00\n",
       "1.000    35000.00\n",
       "Name: loan_amnt, dtype: float64"
      ]
     },
     "execution_count": 44,
     "metadata": {},
     "output_type": "execute_result"
    }
   ],
   "source": [
    "# loan amount has some outliers. Let's filter them out too. \n",
    "df.loan_amnt.quantile([0.75,0.90,0.95,0.97,0.975, 0.98, 0.99, 1.0])"
   ]
  },
  {
   "cell_type": "code",
   "execution_count": 45,
   "id": "147e5506",
   "metadata": {},
   "outputs": [
    {
     "data": {
      "text/html": [
       "<div>\n",
       "<style scoped>\n",
       "    .dataframe tbody tr th:only-of-type {\n",
       "        vertical-align: middle;\n",
       "    }\n",
       "\n",
       "    .dataframe tbody tr th {\n",
       "        vertical-align: top;\n",
       "    }\n",
       "\n",
       "    .dataframe thead th {\n",
       "        text-align: right;\n",
       "    }\n",
       "</style>\n",
       "<table border=\"1\" class=\"dataframe\">\n",
       "  <thead>\n",
       "    <tr style=\"text-align: right;\">\n",
       "      <th></th>\n",
       "      <th>loan_amnt</th>\n",
       "      <th>funded_amnt_inv</th>\n",
       "      <th>term</th>\n",
       "      <th>int_rate</th>\n",
       "      <th>installment</th>\n",
       "      <th>grade</th>\n",
       "      <th>sub_grade</th>\n",
       "      <th>emp_length</th>\n",
       "      <th>home_ownership</th>\n",
       "      <th>annual_inc</th>\n",
       "      <th>...</th>\n",
       "      <th>issue_d</th>\n",
       "      <th>loan_status</th>\n",
       "      <th>purpose</th>\n",
       "      <th>dti</th>\n",
       "      <th>earliest_cr_line</th>\n",
       "      <th>inq_last_6mths</th>\n",
       "      <th>open_acc</th>\n",
       "      <th>pub_rec</th>\n",
       "      <th>revol_util</th>\n",
       "      <th>total_acc</th>\n",
       "    </tr>\n",
       "  </thead>\n",
       "  <tbody>\n",
       "    <tr>\n",
       "      <th>0</th>\n",
       "      <td>5000</td>\n",
       "      <td>4975.0</td>\n",
       "      <td>36 months</td>\n",
       "      <td>10.65</td>\n",
       "      <td>162.87</td>\n",
       "      <td>B</td>\n",
       "      <td>B2</td>\n",
       "      <td>10</td>\n",
       "      <td>RENT</td>\n",
       "      <td>24000</td>\n",
       "      <td>...</td>\n",
       "      <td>Dec-11</td>\n",
       "      <td>Fully Paid</td>\n",
       "      <td>credit_card</td>\n",
       "      <td>27.65</td>\n",
       "      <td>Jan-85</td>\n",
       "      <td>1</td>\n",
       "      <td>3</td>\n",
       "      <td>0</td>\n",
       "      <td>83.7</td>\n",
       "      <td>9</td>\n",
       "    </tr>\n",
       "    <tr>\n",
       "      <th>1</th>\n",
       "      <td>2500</td>\n",
       "      <td>2500.0</td>\n",
       "      <td>60 months</td>\n",
       "      <td>15.27</td>\n",
       "      <td>59.83</td>\n",
       "      <td>C</td>\n",
       "      <td>C4</td>\n",
       "      <td>1</td>\n",
       "      <td>RENT</td>\n",
       "      <td>30000</td>\n",
       "      <td>...</td>\n",
       "      <td>Dec-11</td>\n",
       "      <td>Charged Off</td>\n",
       "      <td>car</td>\n",
       "      <td>1.00</td>\n",
       "      <td>Apr-99</td>\n",
       "      <td>5</td>\n",
       "      <td>3</td>\n",
       "      <td>0</td>\n",
       "      <td>9.4</td>\n",
       "      <td>4</td>\n",
       "    </tr>\n",
       "    <tr>\n",
       "      <th>2</th>\n",
       "      <td>2400</td>\n",
       "      <td>2400.0</td>\n",
       "      <td>36 months</td>\n",
       "      <td>15.96</td>\n",
       "      <td>84.33</td>\n",
       "      <td>C</td>\n",
       "      <td>C5</td>\n",
       "      <td>10</td>\n",
       "      <td>RENT</td>\n",
       "      <td>12252</td>\n",
       "      <td>...</td>\n",
       "      <td>Dec-11</td>\n",
       "      <td>Fully Paid</td>\n",
       "      <td>small_business</td>\n",
       "      <td>8.72</td>\n",
       "      <td>Nov-01</td>\n",
       "      <td>2</td>\n",
       "      <td>2</td>\n",
       "      <td>0</td>\n",
       "      <td>98.5</td>\n",
       "      <td>10</td>\n",
       "    </tr>\n",
       "    <tr>\n",
       "      <th>3</th>\n",
       "      <td>10000</td>\n",
       "      <td>10000.0</td>\n",
       "      <td>36 months</td>\n",
       "      <td>13.49</td>\n",
       "      <td>339.31</td>\n",
       "      <td>C</td>\n",
       "      <td>C1</td>\n",
       "      <td>10</td>\n",
       "      <td>RENT</td>\n",
       "      <td>49200</td>\n",
       "      <td>...</td>\n",
       "      <td>Dec-11</td>\n",
       "      <td>Fully Paid</td>\n",
       "      <td>other</td>\n",
       "      <td>20.00</td>\n",
       "      <td>Feb-96</td>\n",
       "      <td>1</td>\n",
       "      <td>10</td>\n",
       "      <td>0</td>\n",
       "      <td>21.0</td>\n",
       "      <td>37</td>\n",
       "    </tr>\n",
       "    <tr>\n",
       "      <th>5</th>\n",
       "      <td>5000</td>\n",
       "      <td>5000.0</td>\n",
       "      <td>36 months</td>\n",
       "      <td>7.90</td>\n",
       "      <td>156.46</td>\n",
       "      <td>A</td>\n",
       "      <td>A4</td>\n",
       "      <td>3</td>\n",
       "      <td>RENT</td>\n",
       "      <td>36000</td>\n",
       "      <td>...</td>\n",
       "      <td>Dec-11</td>\n",
       "      <td>Fully Paid</td>\n",
       "      <td>wedding</td>\n",
       "      <td>11.20</td>\n",
       "      <td>Nov-04</td>\n",
       "      <td>3</td>\n",
       "      <td>9</td>\n",
       "      <td>0</td>\n",
       "      <td>28.3</td>\n",
       "      <td>12</td>\n",
       "    </tr>\n",
       "  </tbody>\n",
       "</table>\n",
       "<p>5 rows × 21 columns</p>\n",
       "</div>"
      ],
      "text/plain": [
       "   loan_amnt  funded_amnt_inv        term  int_rate  installment grade  \\\n",
       "0       5000           4975.0   36 months     10.65       162.87     B   \n",
       "1       2500           2500.0   60 months     15.27        59.83     C   \n",
       "2       2400           2400.0   36 months     15.96        84.33     C   \n",
       "3      10000          10000.0   36 months     13.49       339.31     C   \n",
       "5       5000           5000.0   36 months      7.90       156.46     A   \n",
       "\n",
       "  sub_grade  emp_length home_ownership  annual_inc  ... issue_d  loan_status  \\\n",
       "0        B2          10           RENT       24000  ...  Dec-11   Fully Paid   \n",
       "1        C4           1           RENT       30000  ...  Dec-11  Charged Off   \n",
       "2        C5          10           RENT       12252  ...  Dec-11   Fully Paid   \n",
       "3        C1          10           RENT       49200  ...  Dec-11   Fully Paid   \n",
       "5        A4           3           RENT       36000  ...  Dec-11   Fully Paid   \n",
       "\n",
       "          purpose    dti  earliest_cr_line inq_last_6mths  open_acc  pub_rec  \\\n",
       "0     credit_card  27.65            Jan-85              1         3        0   \n",
       "1             car   1.00            Apr-99              5         3        0   \n",
       "2  small_business   8.72            Nov-01              2         2        0   \n",
       "3           other  20.00            Feb-96              1        10        0   \n",
       "5         wedding  11.20            Nov-04              3         9        0   \n",
       "\n",
       "   revol_util  total_acc  \n",
       "0        83.7          9  \n",
       "1         9.4          4  \n",
       "2        98.5         10  \n",
       "3        21.0         37  \n",
       "5        28.3         12  \n",
       "\n",
       "[5 rows x 21 columns]"
      ]
     },
     "execution_count": 45,
     "metadata": {},
     "output_type": "execute_result"
    }
   ],
   "source": [
    "# filter for 95 Quantile\n",
    "percentile_loan_amnt = df['loan_amnt'].quantile(0.95)\n",
    "df = df[df.loan_amnt <= percentile_loan_amnt]\n",
    "df.head()"
   ]
  },
  {
   "cell_type": "code",
   "execution_count": 46,
   "id": "c872b503",
   "metadata": {},
   "outputs": [
    {
     "data": {
      "text/plain": [
       "<AxesSubplot:xlabel='loan_amnt'>"
      ]
     },
     "execution_count": 46,
     "metadata": {},
     "output_type": "execute_result"
    },
    {
     "data": {
      "image/png": "[encoded data removed]",
      "text/plain": [
       "<Figure size 432x288 with 1 Axes>"
      ]
     },
     "metadata": {
      "needs_background": "light"
     },
     "output_type": "display_data"
    }
   ],
   "source": [
    "sns.boxplot(x=df.loan_amnt)"
   ]
  },
  {
   "cell_type": "markdown",
   "id": "01764e16",
   "metadata": {},
   "source": [
    "# Categorical Data"
   ]
  },
  {
   "cell_type": "code",
   "execution_count": 47,
   "id": "e7413723",
   "metadata": {},
   "outputs": [],
   "source": [
    "# We are more interested in reasons leading to loan default. Let's filter those rows out.\n",
    "df_charged_off = df[df.loan_status==\"Charged Off\"]"
   ]
  },
  {
   "cell_type": "code",
   "execution_count": 48,
   "id": "b7208131",
   "metadata": {},
   "outputs": [
    {
     "data": {
      "text/plain": [
       "(5047, 21)"
      ]
     },
     "execution_count": 48,
     "metadata": {},
     "output_type": "execute_result"
    }
   ],
   "source": [
    "df_charged_off.shape"
   ]
  },
  {
   "cell_type": "code",
   "execution_count": 49,
   "id": "9647de0e",
   "metadata": {},
   "outputs": [
    {
     "data": {
      "text/html": [
       "<div>\n",
       "<style scoped>\n",
       "    .dataframe tbody tr th:only-of-type {\n",
       "        vertical-align: middle;\n",
       "    }\n",
       "\n",
       "    .dataframe tbody tr th {\n",
       "        vertical-align: top;\n",
       "    }\n",
       "\n",
       "    .dataframe thead th {\n",
       "        text-align: right;\n",
       "    }\n",
       "</style>\n",
       "<table border=\"1\" class=\"dataframe\">\n",
       "  <thead>\n",
       "    <tr style=\"text-align: right;\">\n",
       "      <th></th>\n",
       "      <th>loan_amnt</th>\n",
       "      <th>funded_amnt_inv</th>\n",
       "      <th>term</th>\n",
       "      <th>int_rate</th>\n",
       "      <th>installment</th>\n",
       "      <th>grade</th>\n",
       "      <th>sub_grade</th>\n",
       "      <th>emp_length</th>\n",
       "      <th>home_ownership</th>\n",
       "      <th>annual_inc</th>\n",
       "      <th>...</th>\n",
       "      <th>issue_d</th>\n",
       "      <th>loan_status</th>\n",
       "      <th>purpose</th>\n",
       "      <th>dti</th>\n",
       "      <th>earliest_cr_line</th>\n",
       "      <th>inq_last_6mths</th>\n",
       "      <th>open_acc</th>\n",
       "      <th>pub_rec</th>\n",
       "      <th>revol_util</th>\n",
       "      <th>total_acc</th>\n",
       "    </tr>\n",
       "  </thead>\n",
       "  <tbody>\n",
       "    <tr>\n",
       "      <th>1</th>\n",
       "      <td>2500</td>\n",
       "      <td>2500.0</td>\n",
       "      <td>60 months</td>\n",
       "      <td>15.27</td>\n",
       "      <td>59.83</td>\n",
       "      <td>C</td>\n",
       "      <td>C4</td>\n",
       "      <td>1</td>\n",
       "      <td>RENT</td>\n",
       "      <td>30000</td>\n",
       "      <td>...</td>\n",
       "      <td>Dec-11</td>\n",
       "      <td>Charged Off</td>\n",
       "      <td>car</td>\n",
       "      <td>1.00</td>\n",
       "      <td>Apr-99</td>\n",
       "      <td>5</td>\n",
       "      <td>3</td>\n",
       "      <td>0</td>\n",
       "      <td>9.4</td>\n",
       "      <td>4</td>\n",
       "    </tr>\n",
       "    <tr>\n",
       "      <th>8</th>\n",
       "      <td>5600</td>\n",
       "      <td>5600.0</td>\n",
       "      <td>60 months</td>\n",
       "      <td>21.28</td>\n",
       "      <td>152.39</td>\n",
       "      <td>F</td>\n",
       "      <td>F2</td>\n",
       "      <td>4</td>\n",
       "      <td>OWN</td>\n",
       "      <td>40000</td>\n",
       "      <td>...</td>\n",
       "      <td>Dec-11</td>\n",
       "      <td>Charged Off</td>\n",
       "      <td>small_business</td>\n",
       "      <td>5.55</td>\n",
       "      <td>Apr-04</td>\n",
       "      <td>2</td>\n",
       "      <td>11</td>\n",
       "      <td>0</td>\n",
       "      <td>32.6</td>\n",
       "      <td>13</td>\n",
       "    </tr>\n",
       "    <tr>\n",
       "      <th>9</th>\n",
       "      <td>5375</td>\n",
       "      <td>5350.0</td>\n",
       "      <td>60 months</td>\n",
       "      <td>12.69</td>\n",
       "      <td>121.45</td>\n",
       "      <td>B</td>\n",
       "      <td>B5</td>\n",
       "      <td>1</td>\n",
       "      <td>RENT</td>\n",
       "      <td>15000</td>\n",
       "      <td>...</td>\n",
       "      <td>Dec-11</td>\n",
       "      <td>Charged Off</td>\n",
       "      <td>other</td>\n",
       "      <td>18.08</td>\n",
       "      <td>Sep-04</td>\n",
       "      <td>0</td>\n",
       "      <td>2</td>\n",
       "      <td>0</td>\n",
       "      <td>36.5</td>\n",
       "      <td>3</td>\n",
       "    </tr>\n",
       "    <tr>\n",
       "      <th>12</th>\n",
       "      <td>9000</td>\n",
       "      <td>9000.0</td>\n",
       "      <td>36 months</td>\n",
       "      <td>13.49</td>\n",
       "      <td>305.38</td>\n",
       "      <td>C</td>\n",
       "      <td>C1</td>\n",
       "      <td>1</td>\n",
       "      <td>RENT</td>\n",
       "      <td>30000</td>\n",
       "      <td>...</td>\n",
       "      <td>Dec-11</td>\n",
       "      <td>Charged Off</td>\n",
       "      <td>debt_consolidation</td>\n",
       "      <td>10.08</td>\n",
       "      <td>Apr-04</td>\n",
       "      <td>1</td>\n",
       "      <td>4</td>\n",
       "      <td>0</td>\n",
       "      <td>91.7</td>\n",
       "      <td>9</td>\n",
       "    </tr>\n",
       "    <tr>\n",
       "      <th>14</th>\n",
       "      <td>10000</td>\n",
       "      <td>10000.0</td>\n",
       "      <td>36 months</td>\n",
       "      <td>10.65</td>\n",
       "      <td>325.74</td>\n",
       "      <td>B</td>\n",
       "      <td>B2</td>\n",
       "      <td>3</td>\n",
       "      <td>RENT</td>\n",
       "      <td>100000</td>\n",
       "      <td>...</td>\n",
       "      <td>Dec-11</td>\n",
       "      <td>Charged Off</td>\n",
       "      <td>other</td>\n",
       "      <td>7.06</td>\n",
       "      <td>May-91</td>\n",
       "      <td>2</td>\n",
       "      <td>14</td>\n",
       "      <td>0</td>\n",
       "      <td>55.5</td>\n",
       "      <td>29</td>\n",
       "    </tr>\n",
       "  </tbody>\n",
       "</table>\n",
       "<p>5 rows × 21 columns</p>\n",
       "</div>"
      ],
      "text/plain": [
       "    loan_amnt  funded_amnt_inv        term  int_rate  installment grade  \\\n",
       "1        2500           2500.0   60 months     15.27        59.83     C   \n",
       "8        5600           5600.0   60 months     21.28       152.39     F   \n",
       "9        5375           5350.0   60 months     12.69       121.45     B   \n",
       "12       9000           9000.0   36 months     13.49       305.38     C   \n",
       "14      10000          10000.0   36 months     10.65       325.74     B   \n",
       "\n",
       "   sub_grade  emp_length home_ownership  annual_inc  ... issue_d  loan_status  \\\n",
       "1         C4           1           RENT       30000  ...  Dec-11  Charged Off   \n",
       "8         F2           4            OWN       40000  ...  Dec-11  Charged Off   \n",
       "9         B5           1           RENT       15000  ...  Dec-11  Charged Off   \n",
       "12        C1           1           RENT       30000  ...  Dec-11  Charged Off   \n",
       "14        B2           3           RENT      100000  ...  Dec-11  Charged Off   \n",
       "\n",
       "               purpose    dti  earliest_cr_line inq_last_6mths  open_acc  \\\n",
       "1                  car   1.00            Apr-99              5         3   \n",
       "8       small_business   5.55            Apr-04              2        11   \n",
       "9                other  18.08            Sep-04              0         2   \n",
       "12  debt_consolidation  10.08            Apr-04              1         4   \n",
       "14               other   7.06            May-91              2        14   \n",
       "\n",
       "    pub_rec  revol_util  total_acc  \n",
       "1         0         9.4          4  \n",
       "8         0        32.6         13  \n",
       "9         0        36.5          3  \n",
       "12        0        91.7          9  \n",
       "14        0        55.5         29  \n",
       "\n",
       "[5 rows x 21 columns]"
      ]
     },
     "execution_count": 49,
     "metadata": {},
     "output_type": "execute_result"
    }
   ],
   "source": [
    "df_charged_off.head()"
   ]
  },
  {
   "cell_type": "code",
   "execution_count": 50,
   "id": "e5e2e242",
   "metadata": {},
   "outputs": [
    {
     "data": {
      "text/plain": [
       "array(['RENT', 'OWN', 'MORTGAGE', 'OTHER'], dtype=object)"
      ]
     },
     "execution_count": 50,
     "metadata": {},
     "output_type": "execute_result"
    }
   ],
   "source": [
    "# Lets start with ownership. Idea is to find out the type of ownership where people defaulted.\n",
    "df_charged_off.home_ownership.unique()"
   ]
  },
  {
   "cell_type": "code",
   "execution_count": 51,
   "id": "01a9e518",
   "metadata": {},
   "outputs": [
    {
     "data": {
      "text/plain": [
       "<AxesSubplot:xlabel='home_ownership', ylabel='count'>"
      ]
     },
     "execution_count": 51,
     "metadata": {},
     "output_type": "execute_result"
    },
    {
     "data": {
      "image/png": "[encoded data removed]",
      "text/plain": [
       "<Figure size 432x288 with 1 Axes>"
      ]
     },
     "metadata": {
      "needs_background": "light"
     },
     "output_type": "display_data"
    }
   ],
   "source": [
    "figure, axis = plt.subplots(figsize = (6,4))\n",
    "axis.set(yscale=\"log\") # log scales generally compress and show a better picture of data variations.\n",
    "sns.countplot(x='home_ownership', data=df_charged_off)"
   ]
  },
  {
   "cell_type": "code",
   "execution_count": 52,
   "id": "9bcff3a6",
   "metadata": {},
   "outputs": [
    {
     "data": {
      "text/plain": [
       "array(['car', 'small_business', 'other', 'debt_consolidation',\n",
       "       'major_purchase', 'credit_card', 'home_improvement', 'moving',\n",
       "       'vacation', 'house', 'medical', 'wedding', 'renewable_energy',\n",
       "       'educational'], dtype=object)"
      ]
     },
     "execution_count": 52,
     "metadata": {},
     "output_type": "execute_result"
    }
   ],
   "source": [
    "# Similarly, lets analyse the purpose of loan.\n",
    "df_charged_off.purpose.unique()"
   ]
  },
  {
   "cell_type": "code",
   "execution_count": 53,
   "id": "b11c0509",
   "metadata": {},
   "outputs": [
    {
     "data": {
      "text/plain": [
       "<AxesSubplot:xlabel='purpose', ylabel='count'>"
      ]
     },
     "execution_count": 53,
     "metadata": {},
     "output_type": "execute_result"
    },
    {
     "data": {
      "image/png": "[encoded data removed]",
      "text/plain": [
       "<Figure size 1440x504 with 1 Axes>"
      ]
     },
     "metadata": {
      "needs_background": "light"
     },
     "output_type": "display_data"
    }
   ],
   "source": [
    "figure, axis = plt.subplots(figsize = (20,7))\n",
    "axis.set(yscale=\"log\") # log scales generally compress and show a better picture of data variations.\n",
    "sns.countplot(x='purpose', data=df_charged_off)"
   ]
  },
  {
   "cell_type": "code",
   "execution_count": 54,
   "id": "4f29a6a7",
   "metadata": {},
   "outputs": [
    {
     "data": {
      "text/plain": [
       "<AxesSubplot:xlabel='term', ylabel='count'>"
      ]
     },
     "execution_count": 54,
     "metadata": {},
     "output_type": "execute_result"
    },
    {
     "data": {
      "image/png": "[encoded data removed]",
      "text/plain": [
       "<Figure size 720x504 with 1 Axes>"
      ]
     },
     "metadata": {
      "needs_background": "light"
     },
     "output_type": "display_data"
    }
   ],
   "source": [
    "# terms\n",
    "figure, axis = plt.subplots(figsize = (10,7))\n",
    "axis.set(yscale=\"log\") # log scales generally compress and show a better picture of data variations.\n",
    "sns.countplot(x='term', data=df_charged_off)"
   ]
  },
  {
   "cell_type": "code",
   "execution_count": 55,
   "id": "5ba5d176",
   "metadata": {},
   "outputs": [
    {
     "data": {
      "text/plain": [
       "<AxesSubplot:xlabel='grade', ylabel='count'>"
      ]
     },
     "execution_count": 55,
     "metadata": {},
     "output_type": "execute_result"
    },
    {
     "data": {
      "image/png": "[encoded data removed]",
      "text/plain": [
       "<Figure size 1008x504 with 1 Axes>"
      ]
     },
     "metadata": {
      "needs_background": "light"
     },
     "output_type": "display_data"
    }
   ],
   "source": [
    "figure, axis = plt.subplots(figsize = (14,7))\n",
    "axis.set(yscale=\"log\") # log scales generally compress and show a better picture of data variations.\n",
    "sns.countplot(x='grade', data=df_charged_off)"
   ]
  },
  {
   "cell_type": "code",
   "execution_count": 56,
   "id": "d905df11",
   "metadata": {},
   "outputs": [
    {
     "data": {
      "text/plain": [
       "<AxesSubplot:xlabel='pub_rec', ylabel='count'>"
      ]
     },
     "execution_count": 56,
     "metadata": {},
     "output_type": "execute_result"
    },
    {
     "data": {
      "image/png": "[encoded data removed]",
      "text/plain": [
       "<Figure size 1440x504 with 1 Axes>"
      ]
     },
     "metadata": {
      "needs_background": "light"
     },
     "output_type": "display_data"
    }
   ],
   "source": [
    "# Public records\n",
    "figure, axis = plt.subplots(figsize = (20,7))\n",
    "axis.set(yscale=\"log\") # log scales generally compress and show a better picture of data variations.\n",
    "sns.countplot(x='pub_rec', data=df_charged_off)"
   ]
  },
  {
   "cell_type": "code",
   "execution_count": 58,
   "id": "1fa4d65a",
   "metadata": {},
   "outputs": [
    {
     "name": "stderr",
     "output_type": "stream",
     "text": [
      "/var/folders/2h/p1nn8g412_xcnp5ddzs57jzw0000gn/T/ipykernel_9217/2434363680.py:3: SettingWithCopyWarning: \n",
      "A value is trying to be set on a copy of a slice from a DataFrame.\n",
      "Try using .loc[row_indexer,col_indexer] = value instead\n",
      "\n",
      "See the caveats in the documentation: https://pandas.pydata.org/pandas-docs/stable/user_guide/indexing.html#returning-a-view-versus-a-copy\n",
      "  df_charged_off['annual_inc_groups'] = pd.cut(df_charged_off['annual_inc'], bins=5,precision =0,labels =['3k-30k','30k-60k','60k-90k','90k-120k','120k-150k'])\n"
     ]
    }
   ],
   "source": [
    "# Let's create some bins around numeric data and see the categorical information from the data.\n",
    "# Start with Annual Income. The group can help us identify a pattern if default is higher in some group.\n",
    "df_charged_off['annual_inc_groups'] = pd.cut(df_charged_off['annual_inc'], bins=5,precision =0,labels =['3k-30k','30k-60k','60k-90k','90k-120k','120k-150k'])"
   ]
  },
  {
   "cell_type": "code",
   "execution_count": 59,
   "id": "8d7140e7",
   "metadata": {},
   "outputs": [
    {
     "data": {
      "text/html": [
       "<div>\n",
       "<style scoped>\n",
       "    .dataframe tbody tr th:only-of-type {\n",
       "        vertical-align: middle;\n",
       "    }\n",
       "\n",
       "    .dataframe tbody tr th {\n",
       "        vertical-align: top;\n",
       "    }\n",
       "\n",
       "    .dataframe thead th {\n",
       "        text-align: right;\n",
       "    }\n",
       "</style>\n",
       "<table border=\"1\" class=\"dataframe\">\n",
       "  <thead>\n",
       "    <tr style=\"text-align: right;\">\n",
       "      <th></th>\n",
       "      <th>loan_amnt</th>\n",
       "      <th>funded_amnt_inv</th>\n",
       "      <th>term</th>\n",
       "      <th>int_rate</th>\n",
       "      <th>installment</th>\n",
       "      <th>grade</th>\n",
       "      <th>sub_grade</th>\n",
       "      <th>emp_length</th>\n",
       "      <th>home_ownership</th>\n",
       "      <th>annual_inc</th>\n",
       "      <th>...</th>\n",
       "      <th>loan_status</th>\n",
       "      <th>purpose</th>\n",
       "      <th>dti</th>\n",
       "      <th>earliest_cr_line</th>\n",
       "      <th>inq_last_6mths</th>\n",
       "      <th>open_acc</th>\n",
       "      <th>pub_rec</th>\n",
       "      <th>revol_util</th>\n",
       "      <th>total_acc</th>\n",
       "      <th>annual_inc_groups</th>\n",
       "    </tr>\n",
       "  </thead>\n",
       "  <tbody>\n",
       "    <tr>\n",
       "      <th>1</th>\n",
       "      <td>2500</td>\n",
       "      <td>2500.0</td>\n",
       "      <td>60 months</td>\n",
       "      <td>15.27</td>\n",
       "      <td>59.83</td>\n",
       "      <td>C</td>\n",
       "      <td>C4</td>\n",
       "      <td>1</td>\n",
       "      <td>RENT</td>\n",
       "      <td>30000</td>\n",
       "      <td>...</td>\n",
       "      <td>Charged Off</td>\n",
       "      <td>car</td>\n",
       "      <td>1.00</td>\n",
       "      <td>Apr-99</td>\n",
       "      <td>5</td>\n",
       "      <td>3</td>\n",
       "      <td>0</td>\n",
       "      <td>9.4</td>\n",
       "      <td>4</td>\n",
       "      <td>30k-60k</td>\n",
       "    </tr>\n",
       "    <tr>\n",
       "      <th>8</th>\n",
       "      <td>5600</td>\n",
       "      <td>5600.0</td>\n",
       "      <td>60 months</td>\n",
       "      <td>21.28</td>\n",
       "      <td>152.39</td>\n",
       "      <td>F</td>\n",
       "      <td>F2</td>\n",
       "      <td>4</td>\n",
       "      <td>OWN</td>\n",
       "      <td>40000</td>\n",
       "      <td>...</td>\n",
       "      <td>Charged Off</td>\n",
       "      <td>small_business</td>\n",
       "      <td>5.55</td>\n",
       "      <td>Apr-04</td>\n",
       "      <td>2</td>\n",
       "      <td>11</td>\n",
       "      <td>0</td>\n",
       "      <td>32.6</td>\n",
       "      <td>13</td>\n",
       "      <td>30k-60k</td>\n",
       "    </tr>\n",
       "    <tr>\n",
       "      <th>9</th>\n",
       "      <td>5375</td>\n",
       "      <td>5350.0</td>\n",
       "      <td>60 months</td>\n",
       "      <td>12.69</td>\n",
       "      <td>121.45</td>\n",
       "      <td>B</td>\n",
       "      <td>B5</td>\n",
       "      <td>1</td>\n",
       "      <td>RENT</td>\n",
       "      <td>15000</td>\n",
       "      <td>...</td>\n",
       "      <td>Charged Off</td>\n",
       "      <td>other</td>\n",
       "      <td>18.08</td>\n",
       "      <td>Sep-04</td>\n",
       "      <td>0</td>\n",
       "      <td>2</td>\n",
       "      <td>0</td>\n",
       "      <td>36.5</td>\n",
       "      <td>3</td>\n",
       "      <td>3k-30k</td>\n",
       "    </tr>\n",
       "    <tr>\n",
       "      <th>12</th>\n",
       "      <td>9000</td>\n",
       "      <td>9000.0</td>\n",
       "      <td>36 months</td>\n",
       "      <td>13.49</td>\n",
       "      <td>305.38</td>\n",
       "      <td>C</td>\n",
       "      <td>C1</td>\n",
       "      <td>1</td>\n",
       "      <td>RENT</td>\n",
       "      <td>30000</td>\n",
       "      <td>...</td>\n",
       "      <td>Charged Off</td>\n",
       "      <td>debt_consolidation</td>\n",
       "      <td>10.08</td>\n",
       "      <td>Apr-04</td>\n",
       "      <td>1</td>\n",
       "      <td>4</td>\n",
       "      <td>0</td>\n",
       "      <td>91.7</td>\n",
       "      <td>9</td>\n",
       "      <td>30k-60k</td>\n",
       "    </tr>\n",
       "    <tr>\n",
       "      <th>14</th>\n",
       "      <td>10000</td>\n",
       "      <td>10000.0</td>\n",
       "      <td>36 months</td>\n",
       "      <td>10.65</td>\n",
       "      <td>325.74</td>\n",
       "      <td>B</td>\n",
       "      <td>B2</td>\n",
       "      <td>3</td>\n",
       "      <td>RENT</td>\n",
       "      <td>100000</td>\n",
       "      <td>...</td>\n",
       "      <td>Charged Off</td>\n",
       "      <td>other</td>\n",
       "      <td>7.06</td>\n",
       "      <td>May-91</td>\n",
       "      <td>2</td>\n",
       "      <td>14</td>\n",
       "      <td>0</td>\n",
       "      <td>55.5</td>\n",
       "      <td>29</td>\n",
       "      <td>90k-120k</td>\n",
       "    </tr>\n",
       "  </tbody>\n",
       "</table>\n",
       "<p>5 rows × 22 columns</p>\n",
       "</div>"
      ],
      "text/plain": [
       "    loan_amnt  funded_amnt_inv        term  int_rate  installment grade  \\\n",
       "1        2500           2500.0   60 months     15.27        59.83     C   \n",
       "8        5600           5600.0   60 months     21.28       152.39     F   \n",
       "9        5375           5350.0   60 months     12.69       121.45     B   \n",
       "12       9000           9000.0   36 months     13.49       305.38     C   \n",
       "14      10000          10000.0   36 months     10.65       325.74     B   \n",
       "\n",
       "   sub_grade  emp_length home_ownership  annual_inc  ...  loan_status  \\\n",
       "1         C4           1           RENT       30000  ...  Charged Off   \n",
       "8         F2           4            OWN       40000  ...  Charged Off   \n",
       "9         B5           1           RENT       15000  ...  Charged Off   \n",
       "12        C1           1           RENT       30000  ...  Charged Off   \n",
       "14        B2           3           RENT      100000  ...  Charged Off   \n",
       "\n",
       "               purpose    dti earliest_cr_line  inq_last_6mths open_acc  \\\n",
       "1                  car   1.00           Apr-99               5        3   \n",
       "8       small_business   5.55           Apr-04               2       11   \n",
       "9                other  18.08           Sep-04               0        2   \n",
       "12  debt_consolidation  10.08           Apr-04               1        4   \n",
       "14               other   7.06           May-91               2       14   \n",
       "\n",
       "    pub_rec  revol_util  total_acc  annual_inc_groups  \n",
       "1         0         9.4          4            30k-60k  \n",
       "8         0        32.6         13            30k-60k  \n",
       "9         0        36.5          3             3k-30k  \n",
       "12        0        91.7          9            30k-60k  \n",
       "14        0        55.5         29           90k-120k  \n",
       "\n",
       "[5 rows x 22 columns]"
      ]
     },
     "execution_count": 59,
     "metadata": {},
     "output_type": "execute_result"
    }
   ],
   "source": [
    "df_charged_off.head()"
   ]
  },
  {
   "cell_type": "code",
   "execution_count": 60,
   "id": "9442ea89",
   "metadata": {},
   "outputs": [
    {
     "name": "stderr",
     "output_type": "stream",
     "text": [
      "/var/folders/2h/p1nn8g412_xcnp5ddzs57jzw0000gn/T/ipykernel_9217/1066411447.py:2: SettingWithCopyWarning: \n",
      "A value is trying to be set on a copy of a slice from a DataFrame.\n",
      "Try using .loc[row_indexer,col_indexer] = value instead\n",
      "\n",
      "See the caveats in the documentation: https://pandas.pydata.org/pandas-docs/stable/user_guide/indexing.html#returning-a-view-versus-a-copy\n",
      "  df_charged_off['int_rate_groups'] = pd.cut(df_charged_off['int_rate'], bins=5,precision =0,labels=['5%-9%','9%-13%','13%-17%','17%-21%','21%-24%'])\n"
     ]
    }
   ],
   "source": [
    "# Interest rate group\n",
    "df_charged_off['int_rate_groups'] = pd.cut(df_charged_off['int_rate'], bins=5,precision =0,labels=['5%-9%','9%-13%','13%-17%','17%-21%','21%-24%'])"
   ]
  },
  {
   "cell_type": "code",
   "execution_count": 61,
   "id": "a7a491a2",
   "metadata": {},
   "outputs": [
    {
     "data": {
      "text/html": [
       "<div>\n",
       "<style scoped>\n",
       "    .dataframe tbody tr th:only-of-type {\n",
       "        vertical-align: middle;\n",
       "    }\n",
       "\n",
       "    .dataframe tbody tr th {\n",
       "        vertical-align: top;\n",
       "    }\n",
       "\n",
       "    .dataframe thead th {\n",
       "        text-align: right;\n",
       "    }\n",
       "</style>\n",
       "<table border=\"1\" class=\"dataframe\">\n",
       "  <thead>\n",
       "    <tr style=\"text-align: right;\">\n",
       "      <th></th>\n",
       "      <th>loan_amnt</th>\n",
       "      <th>funded_amnt_inv</th>\n",
       "      <th>term</th>\n",
       "      <th>int_rate</th>\n",
       "      <th>installment</th>\n",
       "      <th>grade</th>\n",
       "      <th>sub_grade</th>\n",
       "      <th>emp_length</th>\n",
       "      <th>home_ownership</th>\n",
       "      <th>annual_inc</th>\n",
       "      <th>...</th>\n",
       "      <th>purpose</th>\n",
       "      <th>dti</th>\n",
       "      <th>earliest_cr_line</th>\n",
       "      <th>inq_last_6mths</th>\n",
       "      <th>open_acc</th>\n",
       "      <th>pub_rec</th>\n",
       "      <th>revol_util</th>\n",
       "      <th>total_acc</th>\n",
       "      <th>annual_inc_groups</th>\n",
       "      <th>int_rate_groups</th>\n",
       "    </tr>\n",
       "  </thead>\n",
       "  <tbody>\n",
       "    <tr>\n",
       "      <th>1</th>\n",
       "      <td>2500</td>\n",
       "      <td>2500.0</td>\n",
       "      <td>60 months</td>\n",
       "      <td>15.27</td>\n",
       "      <td>59.83</td>\n",
       "      <td>C</td>\n",
       "      <td>C4</td>\n",
       "      <td>1</td>\n",
       "      <td>RENT</td>\n",
       "      <td>30000</td>\n",
       "      <td>...</td>\n",
       "      <td>car</td>\n",
       "      <td>1.00</td>\n",
       "      <td>Apr-99</td>\n",
       "      <td>5</td>\n",
       "      <td>3</td>\n",
       "      <td>0</td>\n",
       "      <td>9.4</td>\n",
       "      <td>4</td>\n",
       "      <td>30k-60k</td>\n",
       "      <td>13%-17%</td>\n",
       "    </tr>\n",
       "    <tr>\n",
       "      <th>8</th>\n",
       "      <td>5600</td>\n",
       "      <td>5600.0</td>\n",
       "      <td>60 months</td>\n",
       "      <td>21.28</td>\n",
       "      <td>152.39</td>\n",
       "      <td>F</td>\n",
       "      <td>F2</td>\n",
       "      <td>4</td>\n",
       "      <td>OWN</td>\n",
       "      <td>40000</td>\n",
       "      <td>...</td>\n",
       "      <td>small_business</td>\n",
       "      <td>5.55</td>\n",
       "      <td>Apr-04</td>\n",
       "      <td>2</td>\n",
       "      <td>11</td>\n",
       "      <td>0</td>\n",
       "      <td>32.6</td>\n",
       "      <td>13</td>\n",
       "      <td>30k-60k</td>\n",
       "      <td>21%-24%</td>\n",
       "    </tr>\n",
       "    <tr>\n",
       "      <th>9</th>\n",
       "      <td>5375</td>\n",
       "      <td>5350.0</td>\n",
       "      <td>60 months</td>\n",
       "      <td>12.69</td>\n",
       "      <td>121.45</td>\n",
       "      <td>B</td>\n",
       "      <td>B5</td>\n",
       "      <td>1</td>\n",
       "      <td>RENT</td>\n",
       "      <td>15000</td>\n",
       "      <td>...</td>\n",
       "      <td>other</td>\n",
       "      <td>18.08</td>\n",
       "      <td>Sep-04</td>\n",
       "      <td>0</td>\n",
       "      <td>2</td>\n",
       "      <td>0</td>\n",
       "      <td>36.5</td>\n",
       "      <td>3</td>\n",
       "      <td>3k-30k</td>\n",
       "      <td>9%-13%</td>\n",
       "    </tr>\n",
       "    <tr>\n",
       "      <th>12</th>\n",
       "      <td>9000</td>\n",
       "      <td>9000.0</td>\n",
       "      <td>36 months</td>\n",
       "      <td>13.49</td>\n",
       "      <td>305.38</td>\n",
       "      <td>C</td>\n",
       "      <td>C1</td>\n",
       "      <td>1</td>\n",
       "      <td>RENT</td>\n",
       "      <td>30000</td>\n",
       "      <td>...</td>\n",
       "      <td>debt_consolidation</td>\n",
       "      <td>10.08</td>\n",
       "      <td>Apr-04</td>\n",
       "      <td>1</td>\n",
       "      <td>4</td>\n",
       "      <td>0</td>\n",
       "      <td>91.7</td>\n",
       "      <td>9</td>\n",
       "      <td>30k-60k</td>\n",
       "      <td>13%-17%</td>\n",
       "    </tr>\n",
       "    <tr>\n",
       "      <th>14</th>\n",
       "      <td>10000</td>\n",
       "      <td>10000.0</td>\n",
       "      <td>36 months</td>\n",
       "      <td>10.65</td>\n",
       "      <td>325.74</td>\n",
       "      <td>B</td>\n",
       "      <td>B2</td>\n",
       "      <td>3</td>\n",
       "      <td>RENT</td>\n",
       "      <td>100000</td>\n",
       "      <td>...</td>\n",
       "      <td>other</td>\n",
       "      <td>7.06</td>\n",
       "      <td>May-91</td>\n",
       "      <td>2</td>\n",
       "      <td>14</td>\n",
       "      <td>0</td>\n",
       "      <td>55.5</td>\n",
       "      <td>29</td>\n",
       "      <td>90k-120k</td>\n",
       "      <td>9%-13%</td>\n",
       "    </tr>\n",
       "  </tbody>\n",
       "</table>\n",
       "<p>5 rows × 23 columns</p>\n",
       "</div>"
      ],
      "text/plain": [
       "    loan_amnt  funded_amnt_inv        term  int_rate  installment grade  \\\n",
       "1        2500           2500.0   60 months     15.27        59.83     C   \n",
       "8        5600           5600.0   60 months     21.28       152.39     F   \n",
       "9        5375           5350.0   60 months     12.69       121.45     B   \n",
       "12       9000           9000.0   36 months     13.49       305.38     C   \n",
       "14      10000          10000.0   36 months     10.65       325.74     B   \n",
       "\n",
       "   sub_grade  emp_length home_ownership  annual_inc  ...             purpose  \\\n",
       "1         C4           1           RENT       30000  ...                 car   \n",
       "8         F2           4            OWN       40000  ...      small_business   \n",
       "9         B5           1           RENT       15000  ...               other   \n",
       "12        C1           1           RENT       30000  ...  debt_consolidation   \n",
       "14        B2           3           RENT      100000  ...               other   \n",
       "\n",
       "      dti earliest_cr_line inq_last_6mths  open_acc pub_rec  revol_util  \\\n",
       "1    1.00           Apr-99              5         3       0         9.4   \n",
       "8    5.55           Apr-04              2        11       0        32.6   \n",
       "9   18.08           Sep-04              0         2       0        36.5   \n",
       "12  10.08           Apr-04              1         4       0        91.7   \n",
       "14   7.06           May-91              2        14       0        55.5   \n",
       "\n",
       "    total_acc  annual_inc_groups  int_rate_groups  \n",
       "1           4            30k-60k          13%-17%  \n",
       "8          13            30k-60k          21%-24%  \n",
       "9           3             3k-30k           9%-13%  \n",
       "12          9            30k-60k          13%-17%  \n",
       "14         29           90k-120k           9%-13%  \n",
       "\n",
       "[5 rows x 23 columns]"
      ]
     },
     "execution_count": 61,
     "metadata": {},
     "output_type": "execute_result"
    }
   ],
   "source": [
    "df_charged_off.head()"
   ]
  },
  {
   "cell_type": "code",
   "execution_count": 63,
   "id": "2df3c4b4",
   "metadata": {},
   "outputs": [
    {
     "data": {
      "text/plain": [
       "<AxesSubplot:xlabel='annual_inc_groups', ylabel='count'>"
      ]
     },
     "execution_count": 63,
     "metadata": {},
     "output_type": "execute_result"
    },
    {
     "data": {
      "image/png": "[encoded data removed]",
      "text/plain": [
       "<Figure size 1080x720 with 1 Axes>"
      ]
     },
     "metadata": {
      "needs_background": "light"
     },
     "output_type": "display_data"
    }
   ],
   "source": [
    "# Analyse annual income group\n",
    "figure, axis = plt.subplots(figsize = (15,10))\n",
    "sns.countplot(x='annual_inc_groups', data=df_charged_off)"
   ]
  },
  {
   "cell_type": "code",
   "execution_count": 64,
   "id": "ab80844b",
   "metadata": {},
   "outputs": [
    {
     "data": {
      "text/plain": [
       "<AxesSubplot:xlabel='int_rate_groups', ylabel='count'>"
      ]
     },
     "execution_count": 64,
     "metadata": {},
     "output_type": "execute_result"
    },
    {
     "data": {
      "image/png": "[encoded data removed]",
      "text/plain": [
       "<Figure size 1080x720 with 1 Axes>"
      ]
     },
     "metadata": {
      "needs_background": "light"
     },
     "output_type": "display_data"
    }
   ],
   "source": [
    "# Analyse annual income group\n",
    "figure, axis = plt.subplots(figsize = (15,10))\n",
    "sns.countplot(x='int_rate_groups', data=df_charged_off)"
   ]
  },
  {
   "cell_type": "markdown",
   "id": "5ff0fc17",
   "metadata": {},
   "source": [
    "##### It seems that most of the default occurs when\n",
    "- When individual is in rented home\n",
    "- Debt is taken for debt reconciliation\n",
    "- The term is 36 Month\n",
    "- Income rate falls in 13-17% group\n",
    "- Income falls in bracket of 30-60K"
   ]
  },
  {
   "cell_type": "markdown",
   "id": "e6f9e7e3",
   "metadata": {},
   "source": [
    "# Lets try with two variables one by one\n"
   ]
  },
  {
   "cell_type": "code",
   "execution_count": 66,
   "id": "8e321687",
   "metadata": {},
   "outputs": [
    {
     "data": {
      "image/png": "[encoded data removed]",
      "text/plain": [
       "<Figure size 720x720 with 1 Axes>"
      ]
     },
     "metadata": {
      "needs_background": "light"
     },
     "output_type": "display_data"
    }
   ],
   "source": [
    "# Income with Ownership status\n",
    "plt.figure(figsize=(10,10))\n",
    "sns.barplot(data =df,x='home_ownership', y='annual_inc', hue ='loan_status',palette=\"pastel\")\n",
    "plt.show()"
   ]
  },
  {
   "cell_type": "code",
   "execution_count": 68,
   "id": "8fc77378",
   "metadata": {},
   "outputs": [
    {
     "data": {
      "image/png": "[encoded data removed]",
      "text/plain": [
       "<Figure size 1440x1440 with 1 Axes>"
      ]
     },
     "metadata": {
      "needs_background": "light"
     },
     "output_type": "display_data"
    }
   ],
   "source": [
    "# Income with Purpose\n",
    "plt.figure(figsize=(20,20))\n",
    "sns.barplot(data =df,x='purpose', y='annual_inc', hue ='loan_status',palette=\"pastel\")\n",
    "plt.show()"
   ]
  },
  {
   "cell_type": "code",
   "execution_count": 70,
   "id": "b0e3f9a9",
   "metadata": {},
   "outputs": [
    {
     "data": {
      "image/png": "[encoded data removed]",
      "text/plain": [
       "<Figure size 1440x1440 with 1 Axes>"
      ]
     },
     "metadata": {
      "needs_background": "light"
     },
     "output_type": "display_data"
    }
   ],
   "source": [
    "# Loan amount with Purpose\n",
    "plt.figure(figsize=(20,20))\n",
    "sns.barplot(data =df,y='loan_amnt', x='purpose', hue ='loan_status',palette=\"pastel\")\n",
    "plt.show()"
   ]
  },
  {
   "cell_type": "code",
   "execution_count": 72,
   "id": "4e26820e",
   "metadata": {},
   "outputs": [
    {
     "data": {
      "image/png": "[encoded data removed]",
      "text/plain": [
       "<Figure size 1440x1440 with 1 Axes>"
      ]
     },
     "metadata": {
      "needs_background": "light"
     },
     "output_type": "display_data"
    }
   ],
   "source": [
    "# Loan amount with House Ownership\n",
    "plt.figure(figsize=(20,20))\n",
    "sns.barplot(data =df,x='loan_amnt', y='home_ownership', hue ='loan_status',palette=\"pastel\")\n",
    "plt.show()"
   ]
  },
  {
   "cell_type": "markdown",
   "id": "3a1dabb0",
   "metadata": {},
   "source": [
    "#### So, combining two variables, few interesting insight came out\n",
    "- Loan borrowing is higher for people living in rented home or mortgaged home.\n",
    "- Loan with Small business and debt consolidation have higher default rate.\n",
    "- Individual with higher income group generally takes loan for home improvement."
   ]
  },
  {
   "cell_type": "markdown",
   "id": "4f9cbcf7",
   "metadata": {},
   "source": [
    "### Risk profile based on analysis\n",
    "- Individual with income bracket 30-60K with rented home and loan purpose of debt consolidation or small business, if offered a 13% or higher interest rate will default on their loan."
   ]
  },
  {
   "cell_type": "code",
   "execution_count": null,
   "id": "55c572e3",
   "metadata": {},
   "outputs": [],
   "source": []
  }
 ],
 "metadata": {
  "kernelspec": {
   "display_name": "Python 3 (ipykernel)",
   "language": "python",
   "name": "python3"
  },
  "language_info": {
   "codemirror_mode": {
    "name": "ipython",
    "version": 3
   },
   "file_extension": ".py",
   "mimetype": "text/x-python",
   "name": "python",
   "nbconvert_exporter": "python",
   "pygments_lexer": "ipython3",
   "version": "3.9.7"
  }
 },
 "nbformat": 4,
 "nbformat_minor": 5
}
